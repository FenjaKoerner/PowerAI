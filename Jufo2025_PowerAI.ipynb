{
 "cells": [
  {
   "cell_type": "code",
   "execution_count": 1,
   "id": "206f597d",
   "metadata": {},
   "outputs": [],
   "source": [
    "#import standard libs\n",
    "import numpy as np\n",
    "import pandas as pd\n",
    "import matplotlib.pyplot as plt\n",
    "from datetime import datetime\n",
    "from random import random\n",
    "import tensorflow as tf\n",
    "from tensorflow.keras.models import Sequential\n",
    "from tensorflow.keras.layers import Input, Dense, Conv1D, LSTM, Flatten"
   ]
  },
  {
   "cell_type": "code",
   "execution_count": 2,
   "id": "e4cfdc31",
   "metadata": {},
   "outputs": [],
   "source": [
    "#import project libs\n",
    "from PowerAIDataHandler.PowerAIDataHandler import ClassPowerAIDataHandler\n",
    "\n",
    "#corrupt timestamps: Time frame: 1728835915654/1728845708532/\n",
    "#  Sprung zwischen 1728835995276 und 1728845640410"
   ]
  },
  {
   "cell_type": "code",
   "execution_count": 3,
   "id": "abd42263",
   "metadata": {},
   "outputs": [],
   "source": [
    "#init datahandler using configuration from .env\n",
    "dh = ClassPowerAIDataHandler(\"C:/Users/Kids/iCloudDrive/Documents/GitHub/PowerAI/.env\")\n",
    "\n",
    "#init parameters for neural network\n",
    "num_devices   = len(dh.device_list)   #länge der Gerätliste\n",
    "event_ratio   = 0.5 #Verhältnis Trainings-/Testdaten\n",
    "window_length = 15 #Anzahl an Daten die gleichzeitig eingespeist werden\n",
    "epochs        = 100 #Anzahl der Traings-/Testdurchläufe"
   ]
  },
  {
   "cell_type": "code",
   "execution_count": 4,
   "id": "ceb1a396",
   "metadata": {
    "scrolled": false
   },
   "outputs": [],
   "source": [
    "#read the calssified events from the mysql database\n",
    "dh.read_events_from_db()\n",
    "\n",
    "#print timeserie of the events\n",
    "#dh.print_events()"
   ]
  },
  {
   "cell_type": "code",
   "execution_count": null,
   "id": "7d9537d0",
   "metadata": {
    "scrolled": false
   },
   "outputs": [],
   "source": [
    "#dh.filter_events_by_minpow()\n",
    "#dh.print_events()"
   ]
  },
  {
   "cell_type": "code",
   "execution_count": null,
   "id": "3c32d067",
   "metadata": {},
   "outputs": [],
   "source": [
    "x = pd.to_datetime(dh.event_list[32][0]['timestamp'], utc=True, unit='ms')\n",
    "y = np.array(dh.event_list[32][0]['value']).astype(float)\n",
    "\n",
    "\n",
    "x = x[0:240]\n",
    "y = y[0:240]\n",
    "\n",
    "f = plt.figure()\n",
    "a = f.add_subplot()\n",
    "a.plot(x, y, marker = 'o')"
   ]
  },
  {
   "cell_type": "code",
   "execution_count": null,
   "id": "0e3c7b1e",
   "metadata": {},
   "outputs": [],
   "source": [
    "#test_x = { 'timestamp' : np.array([]), 'value' : np.array([]), 'device' : np.array([]) }\n",
    "#for key in dh.device_list.keys():\n",
    " #   for i in range(len(dh.event_list[key])):\n",
    "  #      test_x['timestamp'] = np.append(test_x['timestamp'], dh.event_list[key][i]['timestamp'])\n",
    "   #     test_x['value'] = np.append(test_x['value'], dh.event_list[key][i]['value'])\n",
    "    #    test_x['device'] = np.append(test_x['device'], dh.event_list[key][i]['device'])"
   ]
  },
  {
   "cell_type": "code",
   "execution_count": 5,
   "id": "5cfa4b89",
   "metadata": {},
   "outputs": [
    {
     "name": "stdout",
     "output_type": "stream",
     "text": [
      "167932\n"
     ]
    }
   ],
   "source": [
    "test_xx = { 'timestamp' : np.array([]), 'value' : np.array([]), 'device' : np.array([]) }\n",
    "for key in dh.device_list.keys():\n",
    "    for i in range(len(dh.event_list[key])):\n",
    "        test_xx['timestamp'] = np.append(test_xx['timestamp'], dh.event_list[key][i]['timestamp'])\n",
    "        test_xx['value'] = np.append(test_xx['value'], dh.event_list[key][i]['value'])\n",
    "        test_xx['device'] = np.append(test_xx['device'], dh.event_list[key][i]['device'])\n",
    "print(len(test_xx['value']))"
   ]
  },
  {
   "cell_type": "code",
   "execution_count": 22,
   "id": "bcc9d828",
   "metadata": {},
   "outputs": [
    {
     "name": "stdout",
     "output_type": "stream",
     "text": [
      "72111\n"
     ]
    }
   ],
   "source": [
    "test_x = { 'timestamp' : np.array([]), 'value' : np.array([]), 'device' : np.array([]) }\n",
    "valid_devices = {32}\n",
    "\n",
    "for i in range(len(test_xx['value'])):\n",
    "    if test_xx['device'][i] in valid_devices:\n",
    "        test_x['timestamp'] = np.append(test_x['timestamp'], test_xx['timestamp'][i])\n",
    "        test_x['value'] = np.append(test_x['value'], test_xx['value'][i])\n",
    "        test_x['device'] = np.append(test_x['device'], test_xx['device'][i])\n",
    "print(len(test_x['value']))"
   ]
  },
  {
   "cell_type": "code",
   "execution_count": 7,
   "id": "0a4b0ca6",
   "metadata": {},
   "outputs": [
    {
     "data": {
      "text/plain": [
       "139868"
      ]
     },
     "execution_count": 7,
     "metadata": {},
     "output_type": "execute_result"
    }
   ],
   "source": [
    "#Programm zur Erkennung von kitchen-light\n",
    "y = np.zeros(len(test_x['value']))\n",
    "kitchen = 128\n",
    "start_kitchen = False\n",
    "for i in range(len(test_x['value']) - 3):  \n",
    "    if test_x['value'][i+3] - test_x['value'][i] > 280 and test_x['value'][i+3] - test_x['value'][i] < 310:\n",
    "        y[i+3] = kitchen\n",
    "        start_kitchen = True\n",
    "    if test_x['value'][i+3] - test_x['value'][i] > -280 and test_x['value'][i+3] - test_x['value'][i] < -310:\n",
    "        y[i] = kitchen\n",
    "        start_kitchen = False\n",
    "    if start_kitchen == True:\n",
    "        y[i] = kitchen\n",
    "        \n",
    "(y == 128).sum()"
   ]
  },
  {
   "cell_type": "code",
   "execution_count": 8,
   "id": "e3ab943a",
   "metadata": {},
   "outputs": [
    {
     "data": {
      "text/plain": [
       "23725"
      ]
     },
     "execution_count": 8,
     "metadata": {},
     "output_type": "execute_result"
    }
   ],
   "source": [
    "#Programm zur Erkennung von oven\n",
    "#y = np.zeros(len(test_x['value']))\n",
    "oven = 32\n",
    "start_oven = False\n",
    "for i in range(len(test_x['value']) - 150):\n",
    "    if np.var(test_x['value'][i:i+150]) > 427160 and np.var(test_x['value'][i:i+150]) < 1322000:\n",
    "        y[i:i+150] = oven\n",
    "        start_oven = True\n",
    "    if np.var(test_x['value'][i:i+150]) < 427160 or np.var(test_x['value'][i:i+150]) > 1322000:\n",
    "        start_oven = False\n",
    "    if start_oven == True:\n",
    "        y[i] = oven\n",
    "(y == 32).sum()"
   ]
  },
  {
   "cell_type": "code",
   "execution_count": 9,
   "id": "97fc1d10",
   "metadata": {},
   "outputs": [
    {
     "data": {
      "text/plain": [
       "27113"
      ]
     },
     "execution_count": 9,
     "metadata": {},
     "output_type": "execute_result"
    }
   ],
   "source": [
    "#Programm zur Erkennung von induction-cooker\n",
    "#y = np.zeros(len(test_x['value']))\n",
    "induction = 8\n",
    "start_induction = False\n",
    "for i in range(len(test_x['value']) - 180):\n",
    "    if np.var(test_x['value'][i:i+180]) > 361980 and np.var(test_x['value'][i:i+180]) < 1836900:\n",
    "        y[i:i+180] = induction\n",
    "        start_induction = True\n",
    "    if np.var(test_x['value'][i:i+180]) < 361980 or np.var(test_x['value'][i:i+180]) > 1836900:\n",
    "        start_induction = False\n",
    "    if start_induction == True:\n",
    "        y[i] = induction\n",
    "(y == 8).sum()"
   ]
  },
  {
   "cell_type": "code",
   "execution_count": 10,
   "id": "2674c914",
   "metadata": {},
   "outputs": [
    {
     "data": {
      "text/plain": [
       "141776"
      ]
     },
     "execution_count": 10,
     "metadata": {},
     "output_type": "execute_result"
    }
   ],
   "source": [
    "#Programm zur Erkennung von espresso-machine\n",
    "#y = np.zeros(len(test_x['value']))\n",
    "espresso = 1\n",
    "start_espresso = False\n",
    "for i in range(len(test_x['value']) - 3):\n",
    "    if test_x['value'][i+3] - test_x['value'][i] > 950 and test_x['value'][i+3] - test_x['value'][i] < 1050:\n",
    "        y[i+3]= espresso\n",
    "        start_espresso = True\n",
    "    if test_x['value'][i+3]- test_x['value'][i] > -950 and test_x['value'][i+3] - test_x['value'][i] < -1050:\n",
    "        y[i] = espresso\n",
    "        start_espresso = False\n",
    "    if start_espresso == True:\n",
    "        y[i] = espresso\n",
    "        \n",
    "(y == 1).sum()"
   ]
  },
  {
   "cell_type": "code",
   "execution_count": 11,
   "id": "39215375",
   "metadata": {},
   "outputs": [
    {
     "data": {
      "text/plain": [
       "124591"
      ]
     },
     "execution_count": 11,
     "metadata": {},
     "output_type": "execute_result"
    }
   ],
   "source": [
    "#Programm zur Erkennung von microwave\n",
    "#y = np.zeros(len(test_x['value']))\n",
    "microwave = 64\n",
    "start_microwave = False\n",
    "for i in range(len(test_x['value']) - 3):\n",
    "    if test_x['value'][i+3] - test_x['value'][i] > 1150 and test_x['value'][i+3] - test_x['value'][i] < 1250:\n",
    "        y[i+3]= microwave\n",
    "        start_microwave = True\n",
    "    if test_x['value'][i+3]- test_x['value'][i] > -1150 and test_x['value'][i+3] - test_x['value'][i] < -1250:\n",
    "        y[i] = microwave\n",
    "        start_microwave = False\n",
    "    if start_microwave == True:\n",
    "        y[i] = microwave\n",
    "        \n",
    "(y == 64).sum()"
   ]
  },
  {
   "cell_type": "code",
   "execution_count": 12,
   "id": "c8a23f50",
   "metadata": {},
   "outputs": [
    {
     "data": {
      "text/plain": [
       "102411"
      ]
     },
     "execution_count": 12,
     "metadata": {},
     "output_type": "execute_result"
    }
   ],
   "source": [
    "#Programm zur Erkennung von washing-machine\n",
    "#y = np.zeros(len(test_x['value']))\n",
    "washing = 2\n",
    "start_washing = False\n",
    "for i in range(len(test_x['value']) - 150):\n",
    "    if test_x['value'][i+150] - test_x['value'][i] > 2150 and test_x['value'][i+150] - test_x['value'][i] < 2300:\n",
    "        y[i+150] = washing\n",
    "        start_washing = True\n",
    "        start_i = i\n",
    "    if start_washing == True and i - start_i >= 7200:\n",
    "        start_washing = False\n",
    "    if start_washing == True:\n",
    "        y[i] = washing\n",
    "(y == 2).sum()"
   ]
  },
  {
   "cell_type": "code",
   "execution_count": 13,
   "id": "bb5a0bbc",
   "metadata": {},
   "outputs": [
    {
     "data": {
      "text/plain": [
       "30037"
      ]
     },
     "execution_count": 13,
     "metadata": {},
     "output_type": "execute_result"
    }
   ],
   "source": [
    "#Programm zur Erkennung von dish-washer\n",
    "#y = np.zeros(len(test_x['value']))\n",
    "\n",
    "dish = 4\n",
    "start_dish = False\n",
    "for i in range(len(test_x['value'])-6):\n",
    "    if test_x['value'][i+6] - test_x['value'][i] > 2200 and test_x['value'][i+6] - test_x['value'][i] < 2300:\n",
    "        y[i+6] = dish\n",
    "        start_dish = True\n",
    "        start_i = i\n",
    "    if start_dish == True and i - start_i >= 6300:\n",
    "        start_dish = False\n",
    "    if start_dish == True:\n",
    "        y[i] = dish\n",
    "        \n",
    "(y == 4).sum()"
   ]
  },
  {
   "cell_type": "code",
   "execution_count": null,
   "id": "4a557cf0",
   "metadata": {},
   "outputs": [],
   "source": [
    "cnt_wrong = 0\n",
    "total = len(test_x['value'])\n",
    "correct = np.zeros(6)\n",
    "wrong = np.zeros(6)\n",
    "for i in range(total):\n",
    "    if test_x['device'][i] ==  and y[i] /= 1:\n",
    "         = correct[] + 1   \n",
    "        \n",
    "        \n",
    "result_table = PrettyTable(['device name', 'total', 'correct', 'wrong', 'percent'], align='r')        \n",
    "for i in range(len(dh.device_list)) :\n",
    "    result_table.add_row([\n",
    "    dh.device_list[np.power(2, i)]['name'], \n",
    "                int(cnt_wrong[i] + cnt_correct[i]),\n",
    "                int(cnt_correct[i]),\n",
    "                int(cnt_wrong[i]),\n",
    "                str(round(100 * cnt_correct[i] / (cnt_correct[i] + cnt_wrong[i]))) + \"%\" if cnt_correct[i] + cnt_wrong[i] != 0 else \"\"])\n",
    "\n",
    "        print(result_table)\n"
   ]
  },
  {
   "cell_type": "code",
   "execution_count": 14,
   "id": "15466de7",
   "metadata": {},
   "outputs": [
    {
     "name": "stdout",
     "output_type": "stream",
     "text": [
      "Die Erfolgsquote beträgt 33.17971051259284%, insgesamt wurden 47084 Messpunkte von 141906 korrekt zugeordnet.\n"
     ]
    }
   ],
   "source": [
    "#Ergebnis vergleichen\n",
    "\n",
    "correct = 0\n",
    "total = len(test_x['value'])\n",
    "for i in range(total):\n",
    "    if test_x['device'][i] == y[i]:\n",
    "        correct = correct + 1\n",
    "\n",
    "print(f\"Die Erfolgsquote beträgt {correct/total*100}%, insgesamt wurden {correct} Messpunkte von {total} korrekt zugeordnet.\")"
   ]
  },
  {
   "cell_type": "code",
   "execution_count": 21,
   "id": "9c32230b",
   "metadata": {},
   "outputs": [
    {
     "name": "stdout",
     "output_type": "stream",
     "text": [
      "Die Erfolgsquote beträgt 0.0%, insgesamt wurden 0 Messpunkte von 141906 korrekt zugeordnet.\n"
     ]
    }
   ],
   "source": [
    "#Ergebnis richtig vergleichen\n",
    "correct = 0\n",
    "total = len(test_x['value'])\n",
    "for i in range(total):\n",
    "    if test_x['device'][i] == 128 and y[i] == 128:\n",
    "        correct = correct + 1\n",
    "\n",
    "print(f\"Die Erfolgsquote beträgt {correct/total*100}%, insgesamt wurden {correct} Messpunkte von {total} korrekt zugeordnet.\")"
   ]
  },
  {
   "cell_type": "code",
   "execution_count": null,
   "id": "3426bcbc",
   "metadata": {},
   "outputs": [],
   "source": [
    "for i in range(len(dh.event_list[8])):\n",
    "    print(f\"Varianz von Ofen-Event= {np.var(dh.event_list[8][i]['value'])}\")        "
   ]
  },
  {
   "cell_type": "code",
   "execution_count": null,
   "id": "ff1a1fe1",
   "metadata": {},
   "outputs": [],
   "source": [
    "model = Sequential()\n",
    "# input layer\n",
    "model.add(Input(shape=(window_length)))\n",
    "model.add(tf.keras.layers.Reshape(target_shape=(window_length, 1)))\n",
    "# conv1 layer\n",
    "model.add(tf.keras.layers.Convolution1D(filters=64, kernel_size=3, padding=\"same\"))\n",
    "model.add(tf.keras.layers.BatchNormalization())\n",
    "model.add(tf.keras.layers.ReLU())\n",
    "# conv2 layer\n",
    "model.add(tf.keras.layers.Convolution1D(filters=64, kernel_size=3, padding=\"same\"))\n",
    "model.add(tf.keras.layers.BatchNormalization())\n",
    "model.add(tf.keras.layers.ReLU())\n",
    "# conv3 layer\n",
    "model.add(tf.keras.layers.Convolution1D(filters=64, kernel_size=3, padding=\"same\"))\n",
    "model.add(tf.keras.layers.BatchNormalization())\n",
    "model.add(tf.keras.layers.ReLU())\n",
    "# gap\n",
    "model.add(tf.keras.layers.GlobalAveragePooling1D())\n",
    "# output layer\n",
    "model.add(tf.keras.layers.Dense(num_devices, activation=\"softmax\"))"
   ]
  },
  {
   "cell_type": "code",
   "execution_count": null,
   "id": "8026c485",
   "metadata": {},
   "outputs": [],
   "source": [
    "import tensorflow as tf\n",
    "from tensorflow import keras\n",
    "\n",
    "num_classes = 7\n",
    "\n",
    "def make_model(input_shape):\n",
    "    input_layer = keras.layers.Input(input_shape)\n",
    "\n",
    "    conv1 = keras.layers.Conv1D(filters=64, kernel_size=3, padding=\"same\")(input_layer)\n",
    "    conv1 = keras.layers.BatchNormalization()(conv1)\n",
    "    conv1 = keras.layers.ReLU()(conv1)\n",
    "\n",
    "    conv2 = keras.layers.Conv1D(filters=64, kernel_size=3, padding=\"same\")(conv1)\n",
    "    conv2 = keras.layers.BatchNormalization()(conv2)\n",
    "    conv2 = keras.layers.ReLU()(conv2)\n",
    "\n",
    "    conv3 = keras.layers.Conv1D(filters=64, kernel_size=3, padding=\"same\")(conv2)\n",
    "    conv3 = keras.layers.BatchNormalization()(conv3)\n",
    "    conv3 = keras.layers.ReLU()(conv3)\n",
    "\n",
    "    gap = keras.layers.GlobalAveragePooling1D()(conv3)\n",
    "\n",
    "    output_layer = keras.layers.Dense(num_classes, activation=\"softmax\")(gap)\n",
    "\n",
    "    return keras.models.Model(inputs=input_layer, outputs=output_layer)\n",
    "\n",
    "\n",
    "model = make_model(input_shape=train_x.shape[1:])\n",
    "keras.utils.plot_model(model, show_shapes=True)"
   ]
  },
  {
   "cell_type": "code",
   "execution_count": null,
   "id": "d6167ad5",
   "metadata": {},
   "outputs": [],
   "source": [
    "#xx, yy = dh.generate_training_data_from_db(window_length)\n",
    "train_x, train_y, test_x, test_y = dh.generate_training_data_from_events(window_length, event_ratio) #fk: aufteilen der Daten"
   ]
  },
  {
   "cell_type": "code",
   "execution_count": null,
   "id": "5d7df4ea",
   "metadata": {},
   "outputs": [],
   "source": [
    "import keras\n",
    "input_layer = keras.layers.Input(shape=(train_x.shape[1],1))\n",
    "\n",
    "conv1 = keras.layers.Conv1D(filters=64, kernel_size=3, padding=\"same\")(input_layer)\n",
    "conv1 = keras.layers.BatchNormalization()(conv1)\n",
    "conv1 = keras.layers.ReLU()(conv1)\n",
    "\n",
    "conv2 = keras.layers.Conv1D(filters=64, kernel_size=3, padding=\"same\")(conv1)\n",
    "conv2 = keras.layers.BatchNormalization()(conv2)\n",
    "conv2 = keras.layers.ReLU()(conv2)\n",
    "\n",
    "conv3 = keras.layers.Conv1D(filters=64, kernel_size=3, padding=\"same\")(conv2)\n",
    "conv3 = keras.layers.BatchNormalization()(conv3)\n",
    "conv3 = keras.layers.ReLU()(conv3)\n",
    "\n",
    "gap = keras.layers.GlobalAveragePooling1D()(conv3)\n",
    "\n",
    "output_layer = keras.layers.Dense(train_y.shape[1], activation=\"softmax\")(gap)\n",
    "\n",
    "model = keras.models.Model(inputs=input_layer, outputs=output_layer)\n"
   ]
  },
  {
   "cell_type": "code",
   "execution_count": null,
   "id": "930af5bc",
   "metadata": {
    "scrolled": true
   },
   "outputs": [],
   "source": [
    "# Kompilieren des Modells\n",
    "model.compile(optimizer='adam', loss='mse', metrics=['mse', 'msle', 'mae'])\n",
    "# Anzeigen der Modellzusammenfassung\n",
    "model.summary()"
   ]
  },
  {
   "cell_type": "code",
   "execution_count": null,
   "id": "273e17a4",
   "metadata": {},
   "outputs": [],
   "source": [
    "# train the model\n",
    "history = model.fit(\n",
    "            x=train_x,\n",
    "            y=train_y,\n",
    "            batch_size=train_x[0].size,\n",
    "            epochs=epochs,\n",
    "            verbose=0)"
   ]
  },
  {
   "cell_type": "code",
   "execution_count": null,
   "id": "ca56914b",
   "metadata": {},
   "outputs": [],
   "source": [
    "plt.plot(history.history['loss'])\n"
   ]
  },
  {
   "cell_type": "code",
   "execution_count": null,
   "id": "e5b2bf1b",
   "metadata": {},
   "outputs": [],
   "source": [
    "#Prediction with neural network\n",
    "\n",
    "predict_y = model.predict(test_x)\n",
    "    \n",
    "dh.compare_with_testdata(predict_y, test_x, test_y)"
   ]
  },
  {
   "cell_type": "code",
   "execution_count": null,
   "id": "65a7d36e",
   "metadata": {},
   "outputs": [],
   "source": [
    "# fixed potential bug in line 218. train data ratio: 0.5, with event filter\n",
    "#+--------------------+-------+---------+-------+---------+\n",
    "#|        device name | total | correct | wrong | percent |\n",
    "#+--------------------+-------+---------+-------+---------+\n",
    "#|   espresso-machine |   657 |     618 |    39 |     94% |\n",
    "#|    washing-machine |   474 |       0 |   474 |      0% |\n",
    "#|        dish-washer |   383 |     382 |     1 |     99% |\n",
    "#|   induction-cooker |    73 |       0 |    73 |      0% |\n",
    "#|  irrigation-system |     0 |       0 |     0 |         |\n",
    "#|               oven |    18 |       7 |    11 |     38% |\n",
    "#|          microwave |     0 |       0 |     0 |         |\n",
    "#|      kitchen-light |    21 |       0 |    21 |      0% |\n",
    "#|  living-room-light |     0 |       0 |     0 |         |\n",
    "#|  dining-room-light |     0 |       0 |     0 |         |\n",
    "#| ground-floor-light |    10 |       0 |    10 |      0% |\n",
    "#|  upper-floor-light |     0 |       0 |     0 |         |\n",
    "#+--------------------+-------+---------+-------+---------+"
   ]
  },
  {
   "cell_type": "raw",
   "id": "f792ae34",
   "metadata": {},
   "source": [
    "model.save(\n",
    "    \"Devices\"      + str(num_devices) +\n",
    "    \"Percent\"      + str(int(100 * dh.cnt_correct[0] / (dh.cnt_correct[0] + dh.cnt_wrong[0]))) +\n",
    "    \"Window\"       + str(window_length)    + \n",
    "    \"Epochs\"       + str(epochs)           + \n",
    "    \"EventRatio\" + str(int(100*event_ratio)    + \n",
    "    \".keras\")"
   ]
  },
  {
   "cell_type": "code",
   "execution_count": null,
   "id": "3440330c",
   "metadata": {},
   "outputs": [],
   "source": []
  }
 ],
 "metadata": {
  "kernelspec": {
   "display_name": "Python 3 (ipykernel)",
   "language": "python",
   "name": "python3"
  },
  "language_info": {
   "codemirror_mode": {
    "name": "ipython",
    "version": 3
   },
   "file_extension": ".py",
   "mimetype": "text/x-python",
   "name": "python",
   "nbconvert_exporter": "python",
   "pygments_lexer": "ipython3",
   "version": "3.7.9"
  }
 },
 "nbformat": 4,
 "nbformat_minor": 5
}
