{
 "cells": [
  {
   "cell_type": "code",
   "execution_count": 2,
   "id": "206f597d",
   "metadata": {},
   "outputs": [],
   "source": [
    "#import standard libs\n",
    "import numpy as np\n",
    "import pandas as pd\n",
    "import matplotlib.pyplot as plt\n",
    "from datetime import datetime\n",
    "from random import random\n",
    "import tensorflow as tf\n",
    "from tensorflow.keras.models import Sequential\n",
    "from tensorflow.keras.layers import Input, Dense, Conv1D, LSTM, Flatten"
   ]
  },
  {
   "cell_type": "code",
   "execution_count": 3,
   "id": "e4cfdc31",
   "metadata": {},
   "outputs": [],
   "source": [
    "#import project libs\n",
    "from PowerAIDataHandler.PowerAIDataHandler import ClassPowerAIDataHandler\n",
    "\n",
    "#corrupt timestamps: Time frame: 1728835915654/1728845708532/\n",
    "#  Sprung zwischen 1728835995276 und 1728845640410"
   ]
  },
  {
   "cell_type": "code",
   "execution_count": 4,
   "id": "abd42263",
   "metadata": {},
   "outputs": [],
   "source": [
    "#init datahandler using configuration from .env\n",
    "dh = ClassPowerAIDataHandler(\"C:/Users/Kids/iCloudDrive/Documents/GitHub/PowerAI/.env\")\n",
    "\n",
    "#init parameters for neural network\n",
    "num_devices   = len(dh.device_list)   #länge der Gerätliste\n",
    "event_ratio   = 0.5 #Verhältnis Trainings-/Testdaten\n",
    "window_length = 15 #Anzahl an Daten die gleichzeitig eingespeist werden\n",
    "epochs        = 100 #Anzahl der Traings-/Testdurchläufe"
   ]
  },
  {
   "cell_type": "code",
   "execution_count": 5,
   "id": "ceb1a396",
   "metadata": {
    "scrolled": false
   },
   "outputs": [
    {
     "ename": "URLError",
     "evalue": "<urlopen error [WinError 10060] Ein Verbindungsversuch ist fehlgeschlagen, da die Gegenstelle nach einer bestimmten Zeitspanne nicht richtig reagiert hat, oder die hergestellte Verbindung war fehlerhaft, da der verbundene Host nicht reagiert hat>",
     "output_type": "error",
     "traceback": [
      "\u001b[1;31m---------------------------------------------------------------------------\u001b[0m",
      "\u001b[1;31mTimeoutError\u001b[0m                              Traceback (most recent call last)",
      "\u001b[1;32mC:\\Program Files\\WindowsApps\\PythonSoftwareFoundation.Python.3.7_3.7.2544.0_x64__qbz5n2kfra8p0\\lib\\urllib\\request.py\u001b[0m in \u001b[0;36mdo_open\u001b[1;34m(self, http_class, req, **http_conn_args)\u001b[0m\n\u001b[0;32m   1349\u001b[0m                 h.request(req.get_method(), req.selector, req.data, headers,\n\u001b[1;32m-> 1350\u001b[1;33m                           encode_chunked=req.has_header('Transfer-encoding'))\n\u001b[0m\u001b[0;32m   1351\u001b[0m             \u001b[1;32mexcept\u001b[0m \u001b[0mOSError\u001b[0m \u001b[1;32mas\u001b[0m \u001b[0merr\u001b[0m\u001b[1;33m:\u001b[0m \u001b[1;31m# timeout error\u001b[0m\u001b[1;33m\u001b[0m\u001b[1;33m\u001b[0m\u001b[0m\n",
      "\u001b[1;32mC:\\Program Files\\WindowsApps\\PythonSoftwareFoundation.Python.3.7_3.7.2544.0_x64__qbz5n2kfra8p0\\lib\\http\\client.py\u001b[0m in \u001b[0;36mrequest\u001b[1;34m(self, method, url, body, headers, encode_chunked)\u001b[0m\n\u001b[0;32m   1276\u001b[0m         \u001b[1;34m\"\"\"Send a complete request to the server.\"\"\"\u001b[0m\u001b[1;33m\u001b[0m\u001b[1;33m\u001b[0m\u001b[0m\n\u001b[1;32m-> 1277\u001b[1;33m         \u001b[0mself\u001b[0m\u001b[1;33m.\u001b[0m\u001b[0m_send_request\u001b[0m\u001b[1;33m(\u001b[0m\u001b[0mmethod\u001b[0m\u001b[1;33m,\u001b[0m \u001b[0murl\u001b[0m\u001b[1;33m,\u001b[0m \u001b[0mbody\u001b[0m\u001b[1;33m,\u001b[0m \u001b[0mheaders\u001b[0m\u001b[1;33m,\u001b[0m \u001b[0mencode_chunked\u001b[0m\u001b[1;33m)\u001b[0m\u001b[1;33m\u001b[0m\u001b[1;33m\u001b[0m\u001b[0m\n\u001b[0m\u001b[0;32m   1278\u001b[0m \u001b[1;33m\u001b[0m\u001b[0m\n",
      "\u001b[1;32mC:\\Program Files\\WindowsApps\\PythonSoftwareFoundation.Python.3.7_3.7.2544.0_x64__qbz5n2kfra8p0\\lib\\http\\client.py\u001b[0m in \u001b[0;36m_send_request\u001b[1;34m(self, method, url, body, headers, encode_chunked)\u001b[0m\n\u001b[0;32m   1322\u001b[0m             \u001b[0mbody\u001b[0m \u001b[1;33m=\u001b[0m \u001b[0m_encode\u001b[0m\u001b[1;33m(\u001b[0m\u001b[0mbody\u001b[0m\u001b[1;33m,\u001b[0m \u001b[1;34m'body'\u001b[0m\u001b[1;33m)\u001b[0m\u001b[1;33m\u001b[0m\u001b[1;33m\u001b[0m\u001b[0m\n\u001b[1;32m-> 1323\u001b[1;33m         \u001b[0mself\u001b[0m\u001b[1;33m.\u001b[0m\u001b[0mendheaders\u001b[0m\u001b[1;33m(\u001b[0m\u001b[0mbody\u001b[0m\u001b[1;33m,\u001b[0m \u001b[0mencode_chunked\u001b[0m\u001b[1;33m=\u001b[0m\u001b[0mencode_chunked\u001b[0m\u001b[1;33m)\u001b[0m\u001b[1;33m\u001b[0m\u001b[1;33m\u001b[0m\u001b[0m\n\u001b[0m\u001b[0;32m   1324\u001b[0m \u001b[1;33m\u001b[0m\u001b[0m\n",
      "\u001b[1;32mC:\\Program Files\\WindowsApps\\PythonSoftwareFoundation.Python.3.7_3.7.2544.0_x64__qbz5n2kfra8p0\\lib\\http\\client.py\u001b[0m in \u001b[0;36mendheaders\u001b[1;34m(self, message_body, encode_chunked)\u001b[0m\n\u001b[0;32m   1271\u001b[0m             \u001b[1;32mraise\u001b[0m \u001b[0mCannotSendHeader\u001b[0m\u001b[1;33m(\u001b[0m\u001b[1;33m)\u001b[0m\u001b[1;33m\u001b[0m\u001b[1;33m\u001b[0m\u001b[0m\n\u001b[1;32m-> 1272\u001b[1;33m         \u001b[0mself\u001b[0m\u001b[1;33m.\u001b[0m\u001b[0m_send_output\u001b[0m\u001b[1;33m(\u001b[0m\u001b[0mmessage_body\u001b[0m\u001b[1;33m,\u001b[0m \u001b[0mencode_chunked\u001b[0m\u001b[1;33m=\u001b[0m\u001b[0mencode_chunked\u001b[0m\u001b[1;33m)\u001b[0m\u001b[1;33m\u001b[0m\u001b[1;33m\u001b[0m\u001b[0m\n\u001b[0m\u001b[0;32m   1273\u001b[0m \u001b[1;33m\u001b[0m\u001b[0m\n",
      "\u001b[1;32mC:\\Program Files\\WindowsApps\\PythonSoftwareFoundation.Python.3.7_3.7.2544.0_x64__qbz5n2kfra8p0\\lib\\http\\client.py\u001b[0m in \u001b[0;36m_send_output\u001b[1;34m(self, message_body, encode_chunked)\u001b[0m\n\u001b[0;32m   1031\u001b[0m         \u001b[1;32mdel\u001b[0m \u001b[0mself\u001b[0m\u001b[1;33m.\u001b[0m\u001b[0m_buffer\u001b[0m\u001b[1;33m[\u001b[0m\u001b[1;33m:\u001b[0m\u001b[1;33m]\u001b[0m\u001b[1;33m\u001b[0m\u001b[1;33m\u001b[0m\u001b[0m\n\u001b[1;32m-> 1032\u001b[1;33m         \u001b[0mself\u001b[0m\u001b[1;33m.\u001b[0m\u001b[0msend\u001b[0m\u001b[1;33m(\u001b[0m\u001b[0mmsg\u001b[0m\u001b[1;33m)\u001b[0m\u001b[1;33m\u001b[0m\u001b[1;33m\u001b[0m\u001b[0m\n\u001b[0m\u001b[0;32m   1033\u001b[0m \u001b[1;33m\u001b[0m\u001b[0m\n",
      "\u001b[1;32mC:\\Program Files\\WindowsApps\\PythonSoftwareFoundation.Python.3.7_3.7.2544.0_x64__qbz5n2kfra8p0\\lib\\http\\client.py\u001b[0m in \u001b[0;36msend\u001b[1;34m(self, data)\u001b[0m\n\u001b[0;32m    971\u001b[0m             \u001b[1;32mif\u001b[0m \u001b[0mself\u001b[0m\u001b[1;33m.\u001b[0m\u001b[0mauto_open\u001b[0m\u001b[1;33m:\u001b[0m\u001b[1;33m\u001b[0m\u001b[1;33m\u001b[0m\u001b[0m\n\u001b[1;32m--> 972\u001b[1;33m                 \u001b[0mself\u001b[0m\u001b[1;33m.\u001b[0m\u001b[0mconnect\u001b[0m\u001b[1;33m(\u001b[0m\u001b[1;33m)\u001b[0m\u001b[1;33m\u001b[0m\u001b[1;33m\u001b[0m\u001b[0m\n\u001b[0m\u001b[0;32m    973\u001b[0m             \u001b[1;32melse\u001b[0m\u001b[1;33m:\u001b[0m\u001b[1;33m\u001b[0m\u001b[1;33m\u001b[0m\u001b[0m\n",
      "\u001b[1;32mC:\\Program Files\\WindowsApps\\PythonSoftwareFoundation.Python.3.7_3.7.2544.0_x64__qbz5n2kfra8p0\\lib\\http\\client.py\u001b[0m in \u001b[0;36mconnect\u001b[1;34m(self)\u001b[0m\n\u001b[0;32m    943\u001b[0m         self.sock = self._create_connection(\n\u001b[1;32m--> 944\u001b[1;33m             (self.host,self.port), self.timeout, self.source_address)\n\u001b[0m\u001b[0;32m    945\u001b[0m         \u001b[0mself\u001b[0m\u001b[1;33m.\u001b[0m\u001b[0msock\u001b[0m\u001b[1;33m.\u001b[0m\u001b[0msetsockopt\u001b[0m\u001b[1;33m(\u001b[0m\u001b[0msocket\u001b[0m\u001b[1;33m.\u001b[0m\u001b[0mIPPROTO_TCP\u001b[0m\u001b[1;33m,\u001b[0m \u001b[0msocket\u001b[0m\u001b[1;33m.\u001b[0m\u001b[0mTCP_NODELAY\u001b[0m\u001b[1;33m,\u001b[0m \u001b[1;36m1\u001b[0m\u001b[1;33m)\u001b[0m\u001b[1;33m\u001b[0m\u001b[1;33m\u001b[0m\u001b[0m\n",
      "\u001b[1;32mC:\\Program Files\\WindowsApps\\PythonSoftwareFoundation.Python.3.7_3.7.2544.0_x64__qbz5n2kfra8p0\\lib\\socket.py\u001b[0m in \u001b[0;36mcreate_connection\u001b[1;34m(address, timeout, source_address)\u001b[0m\n\u001b[0;32m    727\u001b[0m         \u001b[1;32mtry\u001b[0m\u001b[1;33m:\u001b[0m\u001b[1;33m\u001b[0m\u001b[1;33m\u001b[0m\u001b[0m\n\u001b[1;32m--> 728\u001b[1;33m             \u001b[1;32mraise\u001b[0m \u001b[0merr\u001b[0m\u001b[1;33m\u001b[0m\u001b[1;33m\u001b[0m\u001b[0m\n\u001b[0m\u001b[0;32m    729\u001b[0m         \u001b[1;32mfinally\u001b[0m\u001b[1;33m:\u001b[0m\u001b[1;33m\u001b[0m\u001b[1;33m\u001b[0m\u001b[0m\n",
      "\u001b[1;32mC:\\Program Files\\WindowsApps\\PythonSoftwareFoundation.Python.3.7_3.7.2544.0_x64__qbz5n2kfra8p0\\lib\\socket.py\u001b[0m in \u001b[0;36mcreate_connection\u001b[1;34m(address, timeout, source_address)\u001b[0m\n\u001b[0;32m    715\u001b[0m                 \u001b[0msock\u001b[0m\u001b[1;33m.\u001b[0m\u001b[0mbind\u001b[0m\u001b[1;33m(\u001b[0m\u001b[0msource_address\u001b[0m\u001b[1;33m)\u001b[0m\u001b[1;33m\u001b[0m\u001b[1;33m\u001b[0m\u001b[0m\n\u001b[1;32m--> 716\u001b[1;33m             \u001b[0msock\u001b[0m\u001b[1;33m.\u001b[0m\u001b[0mconnect\u001b[0m\u001b[1;33m(\u001b[0m\u001b[0msa\u001b[0m\u001b[1;33m)\u001b[0m\u001b[1;33m\u001b[0m\u001b[1;33m\u001b[0m\u001b[0m\n\u001b[0m\u001b[0;32m    717\u001b[0m             \u001b[1;31m# Break explicitly a reference cycle\u001b[0m\u001b[1;33m\u001b[0m\u001b[1;33m\u001b[0m\u001b[1;33m\u001b[0m\u001b[0m\n",
      "\u001b[1;31mTimeoutError\u001b[0m: [WinError 10060] Ein Verbindungsversuch ist fehlgeschlagen, da die Gegenstelle nach einer bestimmten Zeitspanne nicht richtig reagiert hat, oder die hergestellte Verbindung war fehlerhaft, da der verbundene Host nicht reagiert hat",
      "\nDuring handling of the above exception, another exception occurred:\n",
      "\u001b[1;31mURLError\u001b[0m                                  Traceback (most recent call last)",
      "\u001b[1;32m~\\AppData\\Local\\Temp\\ipykernel_17692\\2344650107.py\u001b[0m in \u001b[0;36m<module>\u001b[1;34m\u001b[0m\n\u001b[0;32m      1\u001b[0m \u001b[1;31m#read the calssified events from the mysql database\u001b[0m\u001b[1;33m\u001b[0m\u001b[1;33m\u001b[0m\u001b[1;33m\u001b[0m\u001b[0m\n\u001b[1;32m----> 2\u001b[1;33m \u001b[0mdh\u001b[0m\u001b[1;33m.\u001b[0m\u001b[0mread_events_from_db\u001b[0m\u001b[1;33m(\u001b[0m\u001b[1;33m)\u001b[0m\u001b[1;33m\u001b[0m\u001b[1;33m\u001b[0m\u001b[0m\n\u001b[0m\u001b[0;32m      3\u001b[0m \u001b[1;33m\u001b[0m\u001b[0m\n\u001b[0;32m      4\u001b[0m \u001b[1;31m#print timeserie of the events\u001b[0m\u001b[1;33m\u001b[0m\u001b[1;33m\u001b[0m\u001b[1;33m\u001b[0m\u001b[0m\n\u001b[0;32m      5\u001b[0m \u001b[0mdh\u001b[0m\u001b[1;33m.\u001b[0m\u001b[0mprint_events\u001b[0m\u001b[1;33m(\u001b[0m\u001b[1;33m)\u001b[0m\u001b[1;33m\u001b[0m\u001b[1;33m\u001b[0m\u001b[0m\n",
      "\u001b[1;32m~\\iCloudDrive\\Documents\\GitHub\\PowerAI\\PowerAIDataHandler\\PowerAIDataHandler.py\u001b[0m in \u001b[0;36mread_events_from_db\u001b[1;34m(self)\u001b[0m\n\u001b[0;32m     69\u001b[0m                 \u001b[0mconn\u001b[0m\u001b[1;33m.\u001b[0m\u001b[0mclose\u001b[0m\u001b[1;33m(\u001b[0m\u001b[1;33m)\u001b[0m\u001b[1;33m\u001b[0m\u001b[1;33m\u001b[0m\u001b[0m\n\u001b[0;32m     70\u001b[0m             \u001b[1;32melse\u001b[0m\u001b[1;33m:\u001b[0m\u001b[1;33m\u001b[0m\u001b[1;33m\u001b[0m\u001b[0m\n\u001b[1;32m---> 71\u001b[1;33m                 \u001b[1;32mwith\u001b[0m \u001b[0murlopen\u001b[0m\u001b[1;33m(\u001b[0m\u001b[0mself\u001b[0m\u001b[1;33m.\u001b[0m\u001b[0mconfig\u001b[0m\u001b[1;33m(\u001b[0m\u001b[1;34m'myhost'\u001b[0m\u001b[1;33m)\u001b[0m \u001b[1;33m+\u001b[0m \u001b[1;34m'/device_data/'\u001b[0m \u001b[1;33m+\u001b[0m \u001b[0mstr\u001b[0m\u001b[1;33m(\u001b[0m\u001b[0mkey\u001b[0m\u001b[1;33m)\u001b[0m \u001b[1;33m+\u001b[0m \u001b[1;34m'/'\u001b[0m \u001b[1;33m+\u001b[0m \u001b[0mstr\u001b[0m\u001b[1;33m(\u001b[0m\u001b[0mself\u001b[0m\u001b[1;33m.\u001b[0m\u001b[0mdata_start\u001b[0m\u001b[1;33m)\u001b[0m\u001b[1;33m)\u001b[0m \u001b[1;32mas\u001b[0m \u001b[0mresponse\u001b[0m \u001b[1;33m:\u001b[0m\u001b[1;33m\u001b[0m\u001b[1;33m\u001b[0m\u001b[0m\n\u001b[0m\u001b[0;32m     72\u001b[0m                     \u001b[0mself\u001b[0m\u001b[1;33m.\u001b[0m\u001b[0mdata_list\u001b[0m \u001b[1;33m=\u001b[0m \u001b[0mjson\u001b[0m\u001b[1;33m.\u001b[0m\u001b[0mloads\u001b[0m\u001b[1;33m(\u001b[0m\u001b[0mresponse\u001b[0m\u001b[1;33m.\u001b[0m\u001b[0mread\u001b[0m\u001b[1;33m(\u001b[0m\u001b[1;33m)\u001b[0m\u001b[1;33m)\u001b[0m\u001b[1;33m\u001b[0m\u001b[1;33m\u001b[0m\u001b[0m\n\u001b[0;32m     73\u001b[0m                 \u001b[1;31m#print(self.data_list)\u001b[0m\u001b[1;33m\u001b[0m\u001b[1;33m\u001b[0m\u001b[1;33m\u001b[0m\u001b[0m\n",
      "\u001b[1;32mC:\\Program Files\\WindowsApps\\PythonSoftwareFoundation.Python.3.7_3.7.2544.0_x64__qbz5n2kfra8p0\\lib\\urllib\\request.py\u001b[0m in \u001b[0;36murlopen\u001b[1;34m(url, data, timeout, cafile, capath, cadefault, context)\u001b[0m\n\u001b[0;32m    220\u001b[0m     \u001b[1;32melse\u001b[0m\u001b[1;33m:\u001b[0m\u001b[1;33m\u001b[0m\u001b[1;33m\u001b[0m\u001b[0m\n\u001b[0;32m    221\u001b[0m         \u001b[0mopener\u001b[0m \u001b[1;33m=\u001b[0m \u001b[0m_opener\u001b[0m\u001b[1;33m\u001b[0m\u001b[1;33m\u001b[0m\u001b[0m\n\u001b[1;32m--> 222\u001b[1;33m     \u001b[1;32mreturn\u001b[0m \u001b[0mopener\u001b[0m\u001b[1;33m.\u001b[0m\u001b[0mopen\u001b[0m\u001b[1;33m(\u001b[0m\u001b[0murl\u001b[0m\u001b[1;33m,\u001b[0m \u001b[0mdata\u001b[0m\u001b[1;33m,\u001b[0m \u001b[0mtimeout\u001b[0m\u001b[1;33m)\u001b[0m\u001b[1;33m\u001b[0m\u001b[1;33m\u001b[0m\u001b[0m\n\u001b[0m\u001b[0;32m    223\u001b[0m \u001b[1;33m\u001b[0m\u001b[0m\n\u001b[0;32m    224\u001b[0m \u001b[1;32mdef\u001b[0m \u001b[0minstall_opener\u001b[0m\u001b[1;33m(\u001b[0m\u001b[0mopener\u001b[0m\u001b[1;33m)\u001b[0m\u001b[1;33m:\u001b[0m\u001b[1;33m\u001b[0m\u001b[1;33m\u001b[0m\u001b[0m\n",
      "\u001b[1;32mC:\\Program Files\\WindowsApps\\PythonSoftwareFoundation.Python.3.7_3.7.2544.0_x64__qbz5n2kfra8p0\\lib\\urllib\\request.py\u001b[0m in \u001b[0;36mopen\u001b[1;34m(self, fullurl, data, timeout)\u001b[0m\n\u001b[0;32m    523\u001b[0m             \u001b[0mreq\u001b[0m \u001b[1;33m=\u001b[0m \u001b[0mmeth\u001b[0m\u001b[1;33m(\u001b[0m\u001b[0mreq\u001b[0m\u001b[1;33m)\u001b[0m\u001b[1;33m\u001b[0m\u001b[1;33m\u001b[0m\u001b[0m\n\u001b[0;32m    524\u001b[0m \u001b[1;33m\u001b[0m\u001b[0m\n\u001b[1;32m--> 525\u001b[1;33m         \u001b[0mresponse\u001b[0m \u001b[1;33m=\u001b[0m \u001b[0mself\u001b[0m\u001b[1;33m.\u001b[0m\u001b[0m_open\u001b[0m\u001b[1;33m(\u001b[0m\u001b[0mreq\u001b[0m\u001b[1;33m,\u001b[0m \u001b[0mdata\u001b[0m\u001b[1;33m)\u001b[0m\u001b[1;33m\u001b[0m\u001b[1;33m\u001b[0m\u001b[0m\n\u001b[0m\u001b[0;32m    526\u001b[0m \u001b[1;33m\u001b[0m\u001b[0m\n\u001b[0;32m    527\u001b[0m         \u001b[1;31m# post-process response\u001b[0m\u001b[1;33m\u001b[0m\u001b[1;33m\u001b[0m\u001b[1;33m\u001b[0m\u001b[0m\n",
      "\u001b[1;32mC:\\Program Files\\WindowsApps\\PythonSoftwareFoundation.Python.3.7_3.7.2544.0_x64__qbz5n2kfra8p0\\lib\\urllib\\request.py\u001b[0m in \u001b[0;36m_open\u001b[1;34m(self, req, data)\u001b[0m\n\u001b[0;32m    541\u001b[0m         \u001b[0mprotocol\u001b[0m \u001b[1;33m=\u001b[0m \u001b[0mreq\u001b[0m\u001b[1;33m.\u001b[0m\u001b[0mtype\u001b[0m\u001b[1;33m\u001b[0m\u001b[1;33m\u001b[0m\u001b[0m\n\u001b[0;32m    542\u001b[0m         result = self._call_chain(self.handle_open, protocol, protocol +\n\u001b[1;32m--> 543\u001b[1;33m                                   '_open', req)\n\u001b[0m\u001b[0;32m    544\u001b[0m         \u001b[1;32mif\u001b[0m \u001b[0mresult\u001b[0m\u001b[1;33m:\u001b[0m\u001b[1;33m\u001b[0m\u001b[1;33m\u001b[0m\u001b[0m\n\u001b[0;32m    545\u001b[0m             \u001b[1;32mreturn\u001b[0m \u001b[0mresult\u001b[0m\u001b[1;33m\u001b[0m\u001b[1;33m\u001b[0m\u001b[0m\n",
      "\u001b[1;32mC:\\Program Files\\WindowsApps\\PythonSoftwareFoundation.Python.3.7_3.7.2544.0_x64__qbz5n2kfra8p0\\lib\\urllib\\request.py\u001b[0m in \u001b[0;36m_call_chain\u001b[1;34m(self, chain, kind, meth_name, *args)\u001b[0m\n\u001b[0;32m    501\u001b[0m         \u001b[1;32mfor\u001b[0m \u001b[0mhandler\u001b[0m \u001b[1;32min\u001b[0m \u001b[0mhandlers\u001b[0m\u001b[1;33m:\u001b[0m\u001b[1;33m\u001b[0m\u001b[1;33m\u001b[0m\u001b[0m\n\u001b[0;32m    502\u001b[0m             \u001b[0mfunc\u001b[0m \u001b[1;33m=\u001b[0m \u001b[0mgetattr\u001b[0m\u001b[1;33m(\u001b[0m\u001b[0mhandler\u001b[0m\u001b[1;33m,\u001b[0m \u001b[0mmeth_name\u001b[0m\u001b[1;33m)\u001b[0m\u001b[1;33m\u001b[0m\u001b[1;33m\u001b[0m\u001b[0m\n\u001b[1;32m--> 503\u001b[1;33m             \u001b[0mresult\u001b[0m \u001b[1;33m=\u001b[0m \u001b[0mfunc\u001b[0m\u001b[1;33m(\u001b[0m\u001b[1;33m*\u001b[0m\u001b[0margs\u001b[0m\u001b[1;33m)\u001b[0m\u001b[1;33m\u001b[0m\u001b[1;33m\u001b[0m\u001b[0m\n\u001b[0m\u001b[0;32m    504\u001b[0m             \u001b[1;32mif\u001b[0m \u001b[0mresult\u001b[0m \u001b[1;32mis\u001b[0m \u001b[1;32mnot\u001b[0m \u001b[1;32mNone\u001b[0m\u001b[1;33m:\u001b[0m\u001b[1;33m\u001b[0m\u001b[1;33m\u001b[0m\u001b[0m\n\u001b[0;32m    505\u001b[0m                 \u001b[1;32mreturn\u001b[0m \u001b[0mresult\u001b[0m\u001b[1;33m\u001b[0m\u001b[1;33m\u001b[0m\u001b[0m\n",
      "\u001b[1;32mC:\\Program Files\\WindowsApps\\PythonSoftwareFoundation.Python.3.7_3.7.2544.0_x64__qbz5n2kfra8p0\\lib\\urllib\\request.py\u001b[0m in \u001b[0;36mhttp_open\u001b[1;34m(self, req)\u001b[0m\n\u001b[0;32m   1376\u001b[0m \u001b[1;33m\u001b[0m\u001b[0m\n\u001b[0;32m   1377\u001b[0m     \u001b[1;32mdef\u001b[0m \u001b[0mhttp_open\u001b[0m\u001b[1;33m(\u001b[0m\u001b[0mself\u001b[0m\u001b[1;33m,\u001b[0m \u001b[0mreq\u001b[0m\u001b[1;33m)\u001b[0m\u001b[1;33m:\u001b[0m\u001b[1;33m\u001b[0m\u001b[1;33m\u001b[0m\u001b[0m\n\u001b[1;32m-> 1378\u001b[1;33m         \u001b[1;32mreturn\u001b[0m \u001b[0mself\u001b[0m\u001b[1;33m.\u001b[0m\u001b[0mdo_open\u001b[0m\u001b[1;33m(\u001b[0m\u001b[0mhttp\u001b[0m\u001b[1;33m.\u001b[0m\u001b[0mclient\u001b[0m\u001b[1;33m.\u001b[0m\u001b[0mHTTPConnection\u001b[0m\u001b[1;33m,\u001b[0m \u001b[0mreq\u001b[0m\u001b[1;33m)\u001b[0m\u001b[1;33m\u001b[0m\u001b[1;33m\u001b[0m\u001b[0m\n\u001b[0m\u001b[0;32m   1379\u001b[0m \u001b[1;33m\u001b[0m\u001b[0m\n\u001b[0;32m   1380\u001b[0m     \u001b[0mhttp_request\u001b[0m \u001b[1;33m=\u001b[0m \u001b[0mAbstractHTTPHandler\u001b[0m\u001b[1;33m.\u001b[0m\u001b[0mdo_request_\u001b[0m\u001b[1;33m\u001b[0m\u001b[1;33m\u001b[0m\u001b[0m\n",
      "\u001b[1;32mC:\\Program Files\\WindowsApps\\PythonSoftwareFoundation.Python.3.7_3.7.2544.0_x64__qbz5n2kfra8p0\\lib\\urllib\\request.py\u001b[0m in \u001b[0;36mdo_open\u001b[1;34m(self, http_class, req, **http_conn_args)\u001b[0m\n\u001b[0;32m   1350\u001b[0m                           encode_chunked=req.has_header('Transfer-encoding'))\n\u001b[0;32m   1351\u001b[0m             \u001b[1;32mexcept\u001b[0m \u001b[0mOSError\u001b[0m \u001b[1;32mas\u001b[0m \u001b[0merr\u001b[0m\u001b[1;33m:\u001b[0m \u001b[1;31m# timeout error\u001b[0m\u001b[1;33m\u001b[0m\u001b[1;33m\u001b[0m\u001b[0m\n\u001b[1;32m-> 1352\u001b[1;33m                 \u001b[1;32mraise\u001b[0m \u001b[0mURLError\u001b[0m\u001b[1;33m(\u001b[0m\u001b[0merr\u001b[0m\u001b[1;33m)\u001b[0m\u001b[1;33m\u001b[0m\u001b[1;33m\u001b[0m\u001b[0m\n\u001b[0m\u001b[0;32m   1353\u001b[0m             \u001b[0mr\u001b[0m \u001b[1;33m=\u001b[0m \u001b[0mh\u001b[0m\u001b[1;33m.\u001b[0m\u001b[0mgetresponse\u001b[0m\u001b[1;33m(\u001b[0m\u001b[1;33m)\u001b[0m\u001b[1;33m\u001b[0m\u001b[1;33m\u001b[0m\u001b[0m\n\u001b[0;32m   1354\u001b[0m         \u001b[1;32mexcept\u001b[0m\u001b[1;33m:\u001b[0m\u001b[1;33m\u001b[0m\u001b[1;33m\u001b[0m\u001b[0m\n",
      "\u001b[1;31mURLError\u001b[0m: <urlopen error [WinError 10060] Ein Verbindungsversuch ist fehlgeschlagen, da die Gegenstelle nach einer bestimmten Zeitspanne nicht richtig reagiert hat, oder die hergestellte Verbindung war fehlerhaft, da der verbundene Host nicht reagiert hat>"
     ]
    }
   ],
   "source": [
    "#read the calssified events from the mysql database\n",
    "dh.read_events_from_db()\n",
    "\n",
    "#print timeserie of the events\n",
    "dh.print_events()"
   ]
  },
  {
   "cell_type": "code",
   "execution_count": null,
   "id": "7d9537d0",
   "metadata": {
    "scrolled": false
   },
   "outputs": [],
   "source": [
    "#dh.filter_events_by_minpow()\n",
    "#dh.print_events()"
   ]
  },
  {
   "cell_type": "code",
   "execution_count": null,
   "id": "3c32d067",
   "metadata": {},
   "outputs": [],
   "source": [
    "x = pd.to_datetime(dh.event_list[32][0]['timestamp'], utc=True, unit='ms')\n",
    "y = np.array(dh.event_list[32][0]['value']).astype(float)\n",
    "\n",
    "\n",
    "x = x[0:240]\n",
    "y = y[0:240]\n",
    "\n",
    "f = plt.figure()\n",
    "a = f.add_subplot()\n",
    "a.plot(x, y, marker = 'o')"
   ]
  },
  {
   "cell_type": "code",
   "execution_count": null,
   "id": "0e3c7b1e",
   "metadata": {},
   "outputs": [],
   "source": [
    "#test_x = { 'timestamp' : np.array([]), 'value' : np.array([]), 'device' : np.array([]) }\n",
    "#for key in dh.device_list.keys():\n",
    " #   for i in range(len(dh.event_list[key])):\n",
    "  #      test_x['timestamp'] = np.append(test_x['timestamp'], dh.event_list[key][i]['timestamp'])\n",
    "   #     test_x['value'] = np.append(test_x['value'], dh.event_list[key][i]['value'])\n",
    "    #    test_x['device'] = np.append(test_x['device'], dh.event_list[key][i]['device'])"
   ]
  },
  {
   "cell_type": "code",
   "execution_count": 8,
   "id": "5cfa4b89",
   "metadata": {},
   "outputs": [],
   "source": [
    "test_xx = { 'timestamp' : np.array([]), 'value' : np.array([]), 'device' : np.array([]) }\n",
    "for key in dh.device_list.keys():\n",
    "    for i in range(len(dh.event_list[key])):\n",
    "        test_xx['timestamp'] = np.append(test_xx['timestamp'], dh.event_list[key][i]['timestamp'])\n",
    "        test_xx['value'] = np.append(test_xx['value'], dh.event_list[key][i]['value'])\n",
    "        test_xx['device'] = np.append(test_xx['device'], dh.event_list[key][i]['device'])"
   ]
  },
  {
   "cell_type": "code",
   "execution_count": 9,
   "id": "bb2cd3a5",
   "metadata": {},
   "outputs": [
    {
     "name": "stdout",
     "output_type": "stream",
     "text": [
      "0\n"
     ]
    }
   ],
   "source": [
    "print(len(test_xx['value']))"
   ]
  },
  {
   "cell_type": "code",
   "execution_count": 10,
   "id": "a9ed5f1b",
   "metadata": {},
   "outputs": [],
   "source": [
    "test_x = { 'timestamp' : np.array([]), 'value' : np.array([]), 'device' : np.array([]) }\n",
    "for i in range(len(test_xx['value'])):\n",
    "    if test_xx['device'][i] == 1:\n",
    "        test_x['timestamp'] = np.append(test_x['timestamp'], test_xx['timestamp'][i])\n",
    "        test_x['value'] = np.append(test_x['value'], test_xx['value'][i])\n",
    "        test_x['device'] = np.append(test_x['device'], test_xx['device'][i])"
   ]
  },
  {
   "cell_type": "code",
   "execution_count": 11,
   "id": "d8195f36",
   "metadata": {},
   "outputs": [
    {
     "name": "stdout",
     "output_type": "stream",
     "text": [
      "0\n"
     ]
    }
   ],
   "source": [
    "print(len(test_x['value']))"
   ]
  },
  {
   "cell_type": "code",
   "execution_count": null,
   "id": "3d43505c",
   "metadata": {},
   "outputs": [],
   "source": [
    "   # if test_xx['device'][i] == 2:\n",
    "    #    test_x['timestamp'] = np.append(test_x['timestamp'], test_xx['timestamp'][i])\n",
    "     #   test_x['value'] = np.append(test_x['value'], test_xx['value'][i])\n",
    "      #  test_x['device'] = np.append(test_x['device'], test_xx['device'][i])\n",
    "    #if test_xx['device'][i] == 64:\n",
    "     #   test_x['timestamp'] = np.append(test_x['timestamp'], test_xx['timestamp'][i])\n",
    "      #  test_x['value'] = np.append(test_x['value'], test_xx['value'][i])\n",
    "       # test_x['device'] = np.append(test_x['device'], test_xx['device'][i])\n",
    "        \n",
    "        "
   ]
  },
  {
   "cell_type": "code",
   "execution_count": null,
   "id": "4b844f05",
   "metadata": {},
   "outputs": [],
   "source": [
    "#Programm zur Erkennung von espresso-machine\n",
    "y = np.zeros(len(test_x['value']))\n",
    "espresso = 1\n",
    "start_espresso = False\n",
    "for i in range(len(test_x['value']) - 1):\n",
    "    if test_x['value'][i+1] - test_x['value'][i] > 950 and test_x['value'][i+1] - test_x['value'][i] < 1050:\n",
    "        y[i+1] = espresso\n",
    "        start_espresso = True\n",
    "    if test_x['value'][i+1] - test_x['value'][i] > -850 and test_x['value'][i+1] - test_x['value'][i] < -950:\n",
    "        y[i] = espresso\n",
    "        start_espresso = False\n",
    "    if start_espresso == True:\n",
    "        y[i] = espresso"
   ]
  },
  {
   "cell_type": "code",
   "execution_count": null,
   "id": "39215375",
   "metadata": {},
   "outputs": [],
   "source": [
    "#Programm zur Erkennung von microwave\n",
    "microwave = 64\n",
    "start_microwave = False\n",
    "for i in range(len(test_x['value']) - 3):\n",
    "    if test_x['value'][i+3] - test_x['value'][i] > 1150 and test_x['value'][i+3] - test_x['value'][i] < 1250:\n",
    "        y[i+3]= microwave\n",
    "        start_microwave = True\n",
    "    if test_x['value'][i+3]- test_x['value'][i] > -1150 and test_x['value'][i+3] - test_x['value'][i] < -1250:\n",
    "        y[i] = microwave\n",
    "        start_microwave = False\n",
    "    if start_microwave == True:\n",
    "        y[i] = microwave"
   ]
  },
  {
   "cell_type": "code",
   "execution_count": null,
   "id": "0a4b0ca6",
   "metadata": {},
   "outputs": [],
   "source": [
    "#Programm zur Erkennung von kitchen-light\n",
    "kitchen = 128\n",
    "start_kitchen = False\n",
    "for i in range(len(test_x['value']) - 2):  \n",
    "    if test_x['value'][i+2] - test_x['value'][i] > 270 and test_x['value'][i+2] - test_x['value'][i] < 310:\n",
    "        y[i+2] = kitchen\n",
    "        start_kitchen = True\n",
    "    if test_x['value'][i+2] - test_x['value'][i] > -270 and test_x['value'][i+2] - test_x['value'][i] < -310:\n",
    "        y[i] = kitchen\n",
    "        start_kitchen = False\n",
    "    if start_kitchen == True:\n",
    "        y[i] = kitchen"
   ]
  },
  {
   "cell_type": "code",
   "execution_count": null,
   "id": "c8a23f50",
   "metadata": {},
   "outputs": [],
   "source": [
    "#Programm zur Erkennung von washing-machine\n",
    "washing = 2\n",
    "start_washing = False\n",
    "for i in range(len(test_x['value'])-150):\n",
    "    if test_x['value'][i+150] - test_x['value'][i] > 2150 and test_x['value'][i+150] - test_x['value'][i] < 2300:\n",
    "        y[i+15] = washing\n",
    "        start_washing = True\n",
    "        start_i = i\n",
    "    if start_washing == True and i - start_i >= 7200:\n",
    "        start_washing = False\n",
    "    if start_washing == True:\n",
    "        y[i] = washing"
   ]
  },
  {
   "cell_type": "code",
   "execution_count": null,
   "id": "bb5a0bbc",
   "metadata": {},
   "outputs": [],
   "source": [
    "#Programm zur Erkennung von dish-washer\n",
    "dish = 4\n",
    "start_dish = False\n",
    "for i in range(len(test_x['value'])-6):\n",
    "    if test_x['value'][i+6] - test_x['value'][i] > 2200 and test_x['value'][i+6] - test_x['value'][i] < 2300:\n",
    "        y[i+6] = dish\n",
    "        start_dish = True\n",
    "        start_i = i\n",
    "    if start_dish == True and i - start_i >= 6300:\n",
    "        start_dish = False\n",
    "    if start_dish == True:\n",
    "        y[i] = dish"
   ]
  },
  {
   "cell_type": "code",
   "execution_count": null,
   "id": "97fc1d10",
   "metadata": {},
   "outputs": [],
   "source": [
    "#Programm zur Erkennung von induction-cooker\n",
    "y = np.zeros(len(test_x['value']))\n",
    "induction = 8\n",
    "start_induction = False\n",
    "for i in range(len(test_x['value']) - 600):\n",
    "    if test_x['value'][i+1] - test_x['value'][i] > 950 and test_x['value'][i+1] - test_x['value'][i] < 1050:\n",
    "        y[i+1] = induction\n",
    "        start_induction = True\n",
    "    if np.var(test_x['value'][i:i+600]) < 430000:\n",
    "        start_induction = False\n",
    "    if start_induction == True:\n",
    "        y[i] = induction"
   ]
  },
  {
   "cell_type": "code",
   "execution_count": null,
   "id": "e3ab943a",
   "metadata": {},
   "outputs": [],
   "source": [
    "#Programm zur Erkennung von oven\n",
    "y = np.zeros(len(test_x['value']))\n",
    "oven = 32\n",
    "start_oven = False\n",
    "for i in range(len(test_x['value']) - 600):\n",
    "    if test_x['value'][i+1] - test_x['value'][i] > 950 and test_x['value'][i+1] - test_x['value'][i] < 1050:\n",
    "        y[i+1] = oven\n",
    "        start_oven = True\n",
    "    if np.var(test_x['value'][i:i+600]) < 430000:\n",
    "        start_oven = False\n",
    "    if start_oven == True:\n",
    "        y[i] = oven"
   ]
  },
  {
   "cell_type": "code",
   "execution_count": 12,
   "id": "3426bcbc",
   "metadata": {},
   "outputs": [],
   "source": [
    "for i in range(len(dh.event_list[8])):\n",
    "    print(f\"Varianz von Ofen-Event= {np.var(dh.event_list[8][i]['value'])}\")        "
   ]
  },
  {
   "cell_type": "code",
   "execution_count": null,
   "id": "4423b4a2",
   "metadata": {},
   "outputs": [],
   "source": [
    "#create vector of data\n",
    "#data = test_x['value'] if test_x['timestamp']\n",
    "#x = pd.to_datetime(dh.event_list[1][26]['timestamp'], utc=True, unit='ms')\n",
    "#y = np.array(dh.event_list[1][26]['value']).astype(float)\n",
    "#define function to calculate cv\n",
    "#cv = lambda x: np. std (x, ddof= 1 ) / np. mean (x) * 100 \n",
    "\n",
    "#calculate CV\n",
    "#cv(data)"
   ]
  },
  {
   "cell_type": "code",
   "execution_count": null,
   "id": "3ef2cc71",
   "metadata": {},
   "outputs": [],
   "source": [
    " #Programm zur Erkennung von light\n",
    "\n",
    "living = 256\n",
    "start_living = False\n",
    "for i in range(len(test_x['value']) - 2):\n",
    "    if test_x['value'][i+1] - test_x['value'][i] > 185 and test_x['value'][i+1] - test_x['value'][i] < 195:\n",
    "        y[i+1] = living\n",
    "        start_living = True\n",
    "    if test_x['value'][i+1] - test_x['value'][i] > -185 and test_x['value'][i+1] - test_x['value'][i] < -195:\n",
    "        y[i] = living\n",
    "        start_living = False\n",
    "    if start_living == True:\n",
    "        y[i] = living"
   ]
  },
  {
   "cell_type": "code",
   "execution_count": null,
   "id": "c280a96a",
   "metadata": {},
   "outputs": [],
   "source": [
    "#Programm zur Erkennung von light\n",
    "\n",
    "dining = 512\n",
    "start_dining = False\n",
    "\n",
    "for i in range(len(test_x['value']) - 1):\n",
    "    if test_x['value'][i+1] - test_x['value'][i] > 25 and test_x['value'][i+1] - test_x['value'][i] < 35:\n",
    "        y[i+1] = dining\n",
    "        start_dining = True\n",
    "    if test_x['value'][i+1] - test_x['value'][i] > -25 and test_x['value'][i+1] - test_x['value'][i] < -35:\n",
    "        y[i] = dining\n",
    "        start_dining = False\n",
    "    if start_dining == True:\n",
    "        y[i] = dining"
   ]
  },
  {
   "cell_type": "code",
   "execution_count": null,
   "id": "4269d2df",
   "metadata": {},
   "outputs": [],
   "source": [
    "#Programm zur Erkennung von light\n",
    "\n",
    "kitchen = 128\n",
    "living = 256\n",
    "dining = 512\n",
    "ground = 1024\n",
    "upper = 2048\n",
    "\n",
    "start_kitchen = False\n",
    "start_living = False\n",
    "start_dining = False\n",
    "start_ground = False\n",
    "start_upper = False\n",
    "for i in range(len(test_x['value']) - 2):\n",
    "    \n",
    "    if test_x['value'][i+2] - test_x['value'][i] > 270 and test_x['value'][i+2] - test_x['value'][i] < 315:\n",
    "        y[i+2] = kitchen\n",
    "        start_kitchen = True\n",
    "    if test_x['value'][i+2] - test_x['value'][i] > -270 and test_x['value'][i+2] - test_x['value'][i] < -310:\n",
    "        y[i] = kitchen\n",
    "        start_kitchen = False\n",
    "    if start_kitchen == True:\n",
    "        y[i] = kitchen\n",
    " '''   \n",
    "    if test_x['value'][i+1] - test_x['value'][i] > 185 and test_x['value'][i+1] - test_x['value'][i] < 195:\n",
    "        y[i+1] = living\n",
    "        start_living = True\n",
    "    if test_x['value'][i+1] - test_x['value'][i] > -185 and test_x['value'][i+1] - test_x['value'][i] < -195:\n",
    "        y[i] = living\n",
    "        start_living = False\n",
    "    if start_living == True:\n",
    "        y[i] = living\n",
    "    \n",
    "    if test_x['value'][i+1] - test_x['value'][i] > 25 and test_x['value'][i+1] - test_x['value'][i] < 35:\n",
    "        y[i+1] = dining\n",
    "        start_dining = True\n",
    "    if test_x['value'][i+1] - test_x['value'][i] > -25 and test_x['value'][i+1] - test_x['value'][i] < -35:\n",
    "        y[i] = dining\n",
    "        start_dining = False\n",
    "    if start_dining == True:\n",
    "        y[i] = dining\n",
    "        \n",
    "    if test_x['value'][i+1] - test_x['value'][i] > 200 and test_x['value'][i+1] - test_x['value'][i] < 210:\n",
    "        y[i+1] = ground\n",
    "        start_ground = True\n",
    "    if test_x['value'][i+1] - test_x['value'][i] > -200 and test_x['value'][i+1] - test_x['value'][i] < -210:\n",
    "        y[i] = ground\n",
    "        start_ground = False\n",
    "    if start_ground == True:\n",
    "        y[i] = ground\n",
    "        \n",
    "    if test_x['value'][i+1] - test_x['value'][i] > 130 and test_x['value'][i+1] - test_x['value'][i] < 150:\n",
    "        y[i+1] = upper\n",
    "        start_upper = True\n",
    "    if test_x['value'][i+1] - test_x['value'][i] > -130 and test_x['value'][i+1] - test_x['value'][i] < -150:\n",
    "        y[i] = upper\n",
    "        start_upper = False\n",
    "    if start_upper == True:\n",
    "        y[i] = upper\n",
    "'''        "
   ]
  },
  {
   "cell_type": "code",
   "execution_count": null,
   "id": "a0ac1db9",
   "metadata": {},
   "outputs": [],
   "source": [
    "#for i in range(len(test_x['value'])):\n",
    "  #  y[i] = test_x['device'][i]"
   ]
  },
  {
   "cell_type": "code",
   "execution_count": null,
   "id": "15466de7",
   "metadata": {},
   "outputs": [],
   "source": [
    "#Ergebnis vergleichen\n",
    "\n",
    "correct = 0\n",
    "total = len(test_x['value'])\n",
    "for i in range(total):\n",
    "    if test_x['device'][i] == y[i]:\n",
    "        correct = correct + 1\n",
    "\n",
    "print(f\"Die Erfolgsquote beträgt {correct/total*100}%, insgesamt wurden {correct} Messpunkte von {total} korrekt zugeordnet.\")"
   ]
  },
  {
   "cell_type": "code",
   "execution_count": null,
   "id": "c49fd54b",
   "metadata": {},
   "outputs": [],
   "source": [
    "#Ergebnis vergleichen\n",
    "false = 0\n",
    "total = len(test_x['value'])\n",
    "for i in range(total):\n",
    "    if test_x['device'][i] != y[i]:\n",
    "        false = false + 1\n",
    "\n",
    "print(f\"Die Fehlerquote beträgt {false/total}, insgesamt wurden {false} Messpunkte von {total} falsch zugeordnet.\")"
   ]
  },
  {
   "cell_type": "code",
   "execution_count": null,
   "id": "ff1a1fe1",
   "metadata": {},
   "outputs": [],
   "source": [
    "model = Sequential()\n",
    "# input layer\n",
    "model.add(Input(shape=(window_length)))\n",
    "model.add(tf.keras.layers.Reshape(target_shape=(window_length, 1)))\n",
    "# conv1 layer\n",
    "model.add(tf.keras.layers.Convolution1D(filters=64, kernel_size=3, padding=\"same\"))\n",
    "model.add(tf.keras.layers.BatchNormalization())\n",
    "model.add(tf.keras.layers.ReLU())\n",
    "# conv2 layer\n",
    "model.add(tf.keras.layers.Convolution1D(filters=64, kernel_size=3, padding=\"same\"))\n",
    "model.add(tf.keras.layers.BatchNormalization())\n",
    "model.add(tf.keras.layers.ReLU())\n",
    "# conv3 layer\n",
    "model.add(tf.keras.layers.Convolution1D(filters=64, kernel_size=3, padding=\"same\"))\n",
    "model.add(tf.keras.layers.BatchNormalization())\n",
    "model.add(tf.keras.layers.ReLU())\n",
    "# gap\n",
    "model.add(tf.keras.layers.GlobalAveragePooling1D())\n",
    "# output layer\n",
    "model.add(tf.keras.layers.Dense(num_devices, activation=\"softmax\"))"
   ]
  },
  {
   "cell_type": "code",
   "execution_count": null,
   "id": "930af5bc",
   "metadata": {},
   "outputs": [],
   "source": [
    "# Kompilieren des Modells\n",
    "model.compile(optimizer='adam', loss='mse', metrics=['mse', 'msle', 'mae'])\n",
    "# Anzeigen der Modellzusammenfassung\n",
    "model.summary()"
   ]
  },
  {
   "cell_type": "code",
   "execution_count": null,
   "id": "d6167ad5",
   "metadata": {},
   "outputs": [],
   "source": [
    "#xx, yy = dh.generate_training_data_from_db(window_length)\n",
    "train_x, train_y, test_x, test_y = dh.generate_training_data_from_events(window_length, event_ratio) #fk: aufteilen der Daten"
   ]
  },
  {
   "cell_type": "code",
   "execution_count": null,
   "id": "273e17a4",
   "metadata": {},
   "outputs": [],
   "source": [
    "# train the model\n",
    "history = model.fit(\n",
    "            x=train_x,\n",
    "            y=train_y,\n",
    "            batch_size=train_x[0].size,\n",
    "            epochs=epochs,\n",
    "            verbose=0)"
   ]
  },
  {
   "cell_type": "code",
   "execution_count": null,
   "id": "ca56914b",
   "metadata": {},
   "outputs": [],
   "source": [
    "plt.plot(history.history['loss'])\n"
   ]
  },
  {
   "cell_type": "code",
   "execution_count": null,
   "id": "e5b2bf1b",
   "metadata": {},
   "outputs": [],
   "source": [
    "#Prediction with neural network\n",
    "\n",
    "predict_y = model.predict(test_x)\n",
    "    \n",
    "dh.compare_with_testdata(predict_y, test_x, test_y)"
   ]
  },
  {
   "cell_type": "code",
   "execution_count": null,
   "id": "65a7d36e",
   "metadata": {},
   "outputs": [],
   "source": [
    "# fixed potential bug in line 218. train data ratio: 0.5, with event filter\n",
    "#+--------------------+-------+---------+-------+---------+\n",
    "#|        device name | total | correct | wrong | percent |\n",
    "#+--------------------+-------+---------+-------+---------+\n",
    "#|   espresso-machine |   657 |     618 |    39 |     94% |\n",
    "#|    washing-machine |   474 |       0 |   474 |      0% |\n",
    "#|        dish-washer |   383 |     382 |     1 |     99% |\n",
    "#|   induction-cooker |    73 |       0 |    73 |      0% |\n",
    "#|  irrigation-system |     0 |       0 |     0 |         |\n",
    "#|               oven |    18 |       7 |    11 |     38% |\n",
    "#|          microwave |     0 |       0 |     0 |         |\n",
    "#|      kitchen-light |    21 |       0 |    21 |      0% |\n",
    "#|  living-room-light |     0 |       0 |     0 |         |\n",
    "#|  dining-room-light |     0 |       0 |     0 |         |\n",
    "#| ground-floor-light |    10 |       0 |    10 |      0% |\n",
    "#|  upper-floor-light |     0 |       0 |     0 |         |\n",
    "#+--------------------+-------+---------+-------+---------+"
   ]
  },
  {
   "cell_type": "raw",
   "id": "f792ae34",
   "metadata": {},
   "source": [
    "model.save(\n",
    "    \"Devices\"      + str(num_devices) +\n",
    "    \"Percent\"      + str(int(100 * dh.cnt_correct[0] / (dh.cnt_correct[0] + dh.cnt_wrong[0]))) +\n",
    "    \"Window\"       + str(window_length)    + \n",
    "    \"Epochs\"       + str(epochs)           + \n",
    "    \"EventRatio\" + str(int(100*event_ratio)    + \n",
    "    \".keras\")"
   ]
  },
  {
   "cell_type": "code",
   "execution_count": null,
   "id": "8026c485",
   "metadata": {},
   "outputs": [],
   "source": []
  }
 ],
 "metadata": {
  "kernelspec": {
   "display_name": "Python 3 (ipykernel)",
   "language": "python",
   "name": "python3"
  },
  "language_info": {
   "codemirror_mode": {
    "name": "ipython",
    "version": 3
   },
   "file_extension": ".py",
   "mimetype": "text/x-python",
   "name": "python",
   "nbconvert_exporter": "python",
   "pygments_lexer": "ipython3",
   "version": "3.7.9"
  }
 },
 "nbformat": 4,
 "nbformat_minor": 5
}
