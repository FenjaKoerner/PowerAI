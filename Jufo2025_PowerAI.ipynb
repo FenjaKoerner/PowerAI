{
 "cells": [
  {
   "cell_type": "code",
   "execution_count": 1,
   "id": "206f597d",
   "metadata": {},
   "outputs": [],
   "source": [
    "#import standard libs\n",
    "import numpy as np\n",
    "import pandas as pd\n",
    "import matplotlib.pyplot as plt\n",
    "from datetime import datetime\n",
    "from random import random\n",
    "import tensorflow as tf\n",
    "from tensorflow.keras.models import Sequential\n",
    "from tensorflow.keras.layers import Input, Dense, Conv1D, LSTM, Flatten"
   ]
  },
  {
   "cell_type": "code",
   "execution_count": 2,
   "id": "e4cfdc31",
   "metadata": {},
   "outputs": [],
   "source": [
    "#import project libs\n",
    "from PowerAIDataHandler.PowerAIDataHandler import ClassPowerAIDataHandler\n",
    "\n",
    "#corrupt timestamps: Time frame: 1728835915654/1728845708532/\n",
    "#  Sprung zwischen 1728835995276 und 1728845640410"
   ]
  },
  {
   "cell_type": "code",
   "execution_count": 3,
   "id": "abd42263",
   "metadata": {},
   "outputs": [],
   "source": [
    "#init datahandler using configuration from .env\n",
    "dh = ClassPowerAIDataHandler(\"C:/Users/Kids/iCloudDrive/Documents/GitHub/PowerAI/.env\")\n",
    "\n",
    "#init parameters for neural network\n",
    "num_devices   = len(dh.device_list)   #länge der Gerätliste\n",
    "event_ratio   = 0.5 #Verhältnis Trainings-/Testdaten\n",
    "window_length = 15 #Anzahl an Daten die gleichzeitig eingespeist werden\n",
    "epochs        = 100 #Anzahl der Traings-/Testdurchläufe"
   ]
  },
  {
   "cell_type": "code",
   "execution_count": 4,
   "id": "ceb1a396",
   "metadata": {
    "scrolled": false
   },
   "outputs": [
    {
     "ename": "RuntimeError",
     "evalue": "'cryptography' package is required for sha256_password or caching_sha2_password auth methods",
     "output_type": "error",
     "traceback": [
      "\u001b[1;31m---------------------------------------------------------------------------\u001b[0m",
      "\u001b[1;31mRuntimeError\u001b[0m                              Traceback (most recent call last)",
      "\u001b[1;32m~\\AppData\\Local\\Temp\\ipykernel_5740\\2344650107.py\u001b[0m in \u001b[0;36m<module>\u001b[1;34m\u001b[0m\n\u001b[0;32m      1\u001b[0m \u001b[1;31m#read the calssified events from the mysql database\u001b[0m\u001b[1;33m\u001b[0m\u001b[1;33m\u001b[0m\u001b[1;33m\u001b[0m\u001b[0m\n\u001b[1;32m----> 2\u001b[1;33m \u001b[0mdh\u001b[0m\u001b[1;33m.\u001b[0m\u001b[0mread_events_from_db\u001b[0m\u001b[1;33m(\u001b[0m\u001b[1;33m)\u001b[0m\u001b[1;33m\u001b[0m\u001b[1;33m\u001b[0m\u001b[0m\n\u001b[0m\u001b[0;32m      3\u001b[0m \u001b[1;33m\u001b[0m\u001b[0m\n\u001b[0;32m      4\u001b[0m \u001b[1;31m#print timeserie of the events\u001b[0m\u001b[1;33m\u001b[0m\u001b[1;33m\u001b[0m\u001b[1;33m\u001b[0m\u001b[0m\n\u001b[0;32m      5\u001b[0m \u001b[0mdh\u001b[0m\u001b[1;33m.\u001b[0m\u001b[0mprint_events\u001b[0m\u001b[1;33m(\u001b[0m\u001b[1;33m)\u001b[0m\u001b[1;33m\u001b[0m\u001b[1;33m\u001b[0m\u001b[0m\n",
      "\u001b[1;32m~\\iCloudDrive\\Documents\\GitHub\\PowerAI\\PowerAIDataHandler\\PowerAIDataHandler.py\u001b[0m in \u001b[0;36mread_events_from_db\u001b[1;34m(self)\u001b[0m\n\u001b[0;32m     51\u001b[0m             \u001b[0mpassword\u001b[0m \u001b[1;33m=\u001b[0m \u001b[0mself\u001b[0m\u001b[1;33m.\u001b[0m\u001b[0mconfig\u001b[0m\u001b[1;33m(\u001b[0m\u001b[1;34m'mypassword'\u001b[0m\u001b[1;33m)\u001b[0m\u001b[1;33m,\u001b[0m\u001b[1;33m\u001b[0m\u001b[1;33m\u001b[0m\u001b[0m\n\u001b[0;32m     52\u001b[0m             \u001b[0mdatabase\u001b[0m \u001b[1;33m=\u001b[0m \u001b[0mself\u001b[0m\u001b[1;33m.\u001b[0m\u001b[0mconfig\u001b[0m\u001b[1;33m(\u001b[0m\u001b[1;34m'mydatabase'\u001b[0m\u001b[1;33m)\u001b[0m\u001b[1;33m,\u001b[0m\u001b[1;33m\u001b[0m\u001b[1;33m\u001b[0m\u001b[0m\n\u001b[1;32m---> 53\u001b[1;33m             cursorclass = pymysql.cursors.DictCursor)\n\u001b[0m\u001b[0;32m     54\u001b[0m \u001b[1;33m\u001b[0m\u001b[0m\n\u001b[0;32m     55\u001b[0m         \u001b[0mcur\u001b[0m \u001b[1;33m=\u001b[0m \u001b[0mconn\u001b[0m\u001b[1;33m.\u001b[0m\u001b[0mcursor\u001b[0m\u001b[1;33m(\u001b[0m\u001b[1;33m)\u001b[0m\u001b[1;33m\u001b[0m\u001b[1;33m\u001b[0m\u001b[0m\n",
      "\u001b[1;32mc:\\users\\kids\\iclouddrive\\documents\\github\\powerai\\.venv\\lib\\site-packages\\pymysql\\connections.py\u001b[0m in \u001b[0;36m__init__\u001b[1;34m(self, user, password, host, database, unix_socket, port, charset, collation, sql_mode, read_default_file, conv, use_unicode, client_flag, cursorclass, init_command, connect_timeout, read_default_group, autocommit, local_infile, max_allowed_packet, defer_connect, auth_plugin_map, read_timeout, write_timeout, bind_address, binary_prefix, program_name, server_public_key, ssl, ssl_ca, ssl_cert, ssl_disabled, ssl_key, ssl_key_password, ssl_verify_cert, ssl_verify_identity, compress, named_pipe, passwd, db)\u001b[0m\n\u001b[0;32m    359\u001b[0m             \u001b[0mself\u001b[0m\u001b[1;33m.\u001b[0m\u001b[0m_sock\u001b[0m \u001b[1;33m=\u001b[0m \u001b[1;32mNone\u001b[0m\u001b[1;33m\u001b[0m\u001b[1;33m\u001b[0m\u001b[0m\n\u001b[0;32m    360\u001b[0m         \u001b[1;32melse\u001b[0m\u001b[1;33m:\u001b[0m\u001b[1;33m\u001b[0m\u001b[1;33m\u001b[0m\u001b[0m\n\u001b[1;32m--> 361\u001b[1;33m             \u001b[0mself\u001b[0m\u001b[1;33m.\u001b[0m\u001b[0mconnect\u001b[0m\u001b[1;33m(\u001b[0m\u001b[1;33m)\u001b[0m\u001b[1;33m\u001b[0m\u001b[1;33m\u001b[0m\u001b[0m\n\u001b[0m\u001b[0;32m    362\u001b[0m \u001b[1;33m\u001b[0m\u001b[0m\n\u001b[0;32m    363\u001b[0m     \u001b[1;32mdef\u001b[0m \u001b[0m__enter__\u001b[0m\u001b[1;33m(\u001b[0m\u001b[0mself\u001b[0m\u001b[1;33m)\u001b[0m\u001b[1;33m:\u001b[0m\u001b[1;33m\u001b[0m\u001b[1;33m\u001b[0m\u001b[0m\n",
      "\u001b[1;32mc:\\users\\kids\\iclouddrive\\documents\\github\\powerai\\.venv\\lib\\site-packages\\pymysql\\connections.py\u001b[0m in \u001b[0;36mconnect\u001b[1;34m(self, sock)\u001b[0m\n\u001b[0;32m    667\u001b[0m \u001b[1;33m\u001b[0m\u001b[0m\n\u001b[0;32m    668\u001b[0m             \u001b[0mself\u001b[0m\u001b[1;33m.\u001b[0m\u001b[0m_get_server_information\u001b[0m\u001b[1;33m(\u001b[0m\u001b[1;33m)\u001b[0m\u001b[1;33m\u001b[0m\u001b[1;33m\u001b[0m\u001b[0m\n\u001b[1;32m--> 669\u001b[1;33m             \u001b[0mself\u001b[0m\u001b[1;33m.\u001b[0m\u001b[0m_request_authentication\u001b[0m\u001b[1;33m(\u001b[0m\u001b[1;33m)\u001b[0m\u001b[1;33m\u001b[0m\u001b[1;33m\u001b[0m\u001b[0m\n\u001b[0m\u001b[0;32m    670\u001b[0m \u001b[1;33m\u001b[0m\u001b[0m\n\u001b[0;32m    671\u001b[0m             \u001b[1;31m# Send \"SET NAMES\" query on init for:\u001b[0m\u001b[1;33m\u001b[0m\u001b[1;33m\u001b[0m\u001b[1;33m\u001b[0m\u001b[0m\n",
      "\u001b[1;32mc:\\users\\kids\\iclouddrive\\documents\\github\\powerai\\.venv\\lib\\site-packages\\pymysql\\connections.py\u001b[0m in \u001b[0;36m_request_authentication\u001b[1;34m(self)\u001b[0m\n\u001b[0;32m    977\u001b[0m             \u001b[1;31m# https://dev.mysql.com/doc/internals/en/successful-authentication.html\u001b[0m\u001b[1;33m\u001b[0m\u001b[1;33m\u001b[0m\u001b[1;33m\u001b[0m\u001b[0m\n\u001b[0;32m    978\u001b[0m             \u001b[1;32mif\u001b[0m \u001b[0mself\u001b[0m\u001b[1;33m.\u001b[0m\u001b[0m_auth_plugin_name\u001b[0m \u001b[1;33m==\u001b[0m \u001b[1;34m\"caching_sha2_password\"\u001b[0m\u001b[1;33m:\u001b[0m\u001b[1;33m\u001b[0m\u001b[1;33m\u001b[0m\u001b[0m\n\u001b[1;32m--> 979\u001b[1;33m                 \u001b[0mauth_packet\u001b[0m \u001b[1;33m=\u001b[0m \u001b[0m_auth\u001b[0m\u001b[1;33m.\u001b[0m\u001b[0mcaching_sha2_password_auth\u001b[0m\u001b[1;33m(\u001b[0m\u001b[0mself\u001b[0m\u001b[1;33m,\u001b[0m \u001b[0mauth_packet\u001b[0m\u001b[1;33m)\u001b[0m\u001b[1;33m\u001b[0m\u001b[1;33m\u001b[0m\u001b[0m\n\u001b[0m\u001b[0;32m    980\u001b[0m             \u001b[1;32melif\u001b[0m \u001b[0mself\u001b[0m\u001b[1;33m.\u001b[0m\u001b[0m_auth_plugin_name\u001b[0m \u001b[1;33m==\u001b[0m \u001b[1;34m\"sha256_password\"\u001b[0m\u001b[1;33m:\u001b[0m\u001b[1;33m\u001b[0m\u001b[1;33m\u001b[0m\u001b[0m\n\u001b[0;32m    981\u001b[0m                 \u001b[0mauth_packet\u001b[0m \u001b[1;33m=\u001b[0m \u001b[0m_auth\u001b[0m\u001b[1;33m.\u001b[0m\u001b[0msha256_password_auth\u001b[0m\u001b[1;33m(\u001b[0m\u001b[0mself\u001b[0m\u001b[1;33m,\u001b[0m \u001b[0mauth_packet\u001b[0m\u001b[1;33m)\u001b[0m\u001b[1;33m\u001b[0m\u001b[1;33m\u001b[0m\u001b[0m\n",
      "\u001b[1;32mc:\\users\\kids\\iclouddrive\\documents\\github\\powerai\\.venv\\lib\\site-packages\\pymysql\\_auth.py\u001b[0m in \u001b[0;36mcaching_sha2_password_auth\u001b[1;34m(conn, pkt)\u001b[0m\n\u001b[0;32m    265\u001b[0m             \u001b[0mprint\u001b[0m\u001b[1;33m(\u001b[0m\u001b[0mconn\u001b[0m\u001b[1;33m.\u001b[0m\u001b[0mserver_public_key\u001b[0m\u001b[1;33m.\u001b[0m\u001b[0mdecode\u001b[0m\u001b[1;33m(\u001b[0m\u001b[1;34m\"ascii\"\u001b[0m\u001b[1;33m)\u001b[0m\u001b[1;33m)\u001b[0m\u001b[1;33m\u001b[0m\u001b[1;33m\u001b[0m\u001b[0m\n\u001b[0;32m    266\u001b[0m \u001b[1;33m\u001b[0m\u001b[0m\n\u001b[1;32m--> 267\u001b[1;33m     \u001b[0mdata\u001b[0m \u001b[1;33m=\u001b[0m \u001b[0msha2_rsa_encrypt\u001b[0m\u001b[1;33m(\u001b[0m\u001b[0mconn\u001b[0m\u001b[1;33m.\u001b[0m\u001b[0mpassword\u001b[0m\u001b[1;33m,\u001b[0m \u001b[0mconn\u001b[0m\u001b[1;33m.\u001b[0m\u001b[0msalt\u001b[0m\u001b[1;33m,\u001b[0m \u001b[0mconn\u001b[0m\u001b[1;33m.\u001b[0m\u001b[0mserver_public_key\u001b[0m\u001b[1;33m)\u001b[0m\u001b[1;33m\u001b[0m\u001b[1;33m\u001b[0m\u001b[0m\n\u001b[0m\u001b[0;32m    268\u001b[0m     \u001b[0mpkt\u001b[0m \u001b[1;33m=\u001b[0m \u001b[0m_roundtrip\u001b[0m\u001b[1;33m(\u001b[0m\u001b[0mconn\u001b[0m\u001b[1;33m,\u001b[0m \u001b[0mdata\u001b[0m\u001b[1;33m)\u001b[0m\u001b[1;33m\u001b[0m\u001b[1;33m\u001b[0m\u001b[0m\n",
      "\u001b[1;32mc:\\users\\kids\\iclouddrive\\documents\\github\\powerai\\.venv\\lib\\site-packages\\pymysql\\_auth.py\u001b[0m in \u001b[0;36msha2_rsa_encrypt\u001b[1;34m(password, salt, public_key)\u001b[0m\n\u001b[0;32m    143\u001b[0m     \u001b[1;32mif\u001b[0m \u001b[1;32mnot\u001b[0m \u001b[0m_have_cryptography\u001b[0m\u001b[1;33m:\u001b[0m\u001b[1;33m\u001b[0m\u001b[1;33m\u001b[0m\u001b[0m\n\u001b[0;32m    144\u001b[0m         raise RuntimeError(\n\u001b[1;32m--> 145\u001b[1;33m             \u001b[1;34m\"'cryptography' package is required for sha256_password or\"\u001b[0m\u001b[1;33m\u001b[0m\u001b[1;33m\u001b[0m\u001b[0m\n\u001b[0m\u001b[0;32m    146\u001b[0m             \u001b[1;33m+\u001b[0m \u001b[1;34m\" caching_sha2_password auth methods\"\u001b[0m\u001b[1;33m\u001b[0m\u001b[1;33m\u001b[0m\u001b[0m\n\u001b[0;32m    147\u001b[0m         )\n",
      "\u001b[1;31mRuntimeError\u001b[0m: 'cryptography' package is required for sha256_password or caching_sha2_password auth methods"
     ]
    }
   ],
   "source": [
    "#read the calssified events from the mysql database\n",
    "dh.read_events_from_db()\n",
    "\n",
    "#print timeserie of the events\n",
    "dh.print_events()"
   ]
  },
  {
   "cell_type": "code",
   "execution_count": null,
   "id": "7d9537d0",
   "metadata": {
    "scrolled": false
   },
   "outputs": [],
   "source": [
    "dh.filter_events_by_minpow()\n",
    "dh.print_events()"
   ]
  },
  {
   "cell_type": "code",
   "execution_count": null,
   "id": "3c32d067",
   "metadata": {},
   "outputs": [],
   "source": [
    "x = pd.to_datetime(dh.event_list[1][8]['timestamp'], utc=True, unit='ms')\n",
    "y = np.array(dh.event_list[1][8]['value']).astype(float)\n",
    "\n",
    "\n",
    "x = x[40:60]\n",
    "y = y[40:60]\n",
    "\n",
    "f = plt.figure()\n",
    "a = f.add_subplot()\n",
    "a.plot(x, y, marker = 'o')"
   ]
  },
  {
   "cell_type": "code",
   "execution_count": null,
   "id": "ff1a1fe1",
   "metadata": {},
   "outputs": [],
   "source": [
    "model = Sequential()\n",
    "# input layer\n",
    "model.add(Input(shape=(window_length)))\n",
    "model.add(tf.keras.layers.Reshape(target_shape=(window_length, 1)))\n",
    "# conv1 layer\n",
    "model.add(tf.keras.layers.Convolution1D(filters=64, kernel_size=3, padding=\"same\"))\n",
    "model.add(tf.keras.layers.BatchNormalization())\n",
    "model.add(tf.keras.layers.ReLU())\n",
    "# conv2 layer\n",
    "model.add(tf.keras.layers.Convolution1D(filters=64, kernel_size=3, padding=\"same\"))\n",
    "model.add(tf.keras.layers.BatchNormalization())\n",
    "model.add(tf.keras.layers.ReLU())\n",
    "# conv3 layer\n",
    "model.add(tf.keras.layers.Convolution1D(filters=64, kernel_size=3, padding=\"same\"))\n",
    "model.add(tf.keras.layers.BatchNormalization())\n",
    "model.add(tf.keras.layers.ReLU())\n",
    "# gap\n",
    "model.add(tf.keras.layers.GlobalAveragePooling1D())\n",
    "# output layer\n",
    "model.add(tf.keras.layers.Dense(num_devices, activation=\"softmax\"))"
   ]
  },
  {
   "cell_type": "code",
   "execution_count": null,
   "id": "930af5bc",
   "metadata": {},
   "outputs": [],
   "source": [
    "# Kompilieren des Modells\n",
    "model.compile(optimizer='adam', loss='mse', metrics=['mse', 'msle', 'mae'])\n",
    "#model.compile(optimizer='adam', loss='sparse_categorical_crossentropy', metrics=['mse', 'msle', 'mae'])\n",
    "# Anzeigen der Modellzusammenfassung\n",
    "model.summary()"
   ]
  },
  {
   "cell_type": "code",
   "execution_count": null,
   "id": "d6167ad5",
   "metadata": {},
   "outputs": [],
   "source": [
    "#xx, yy = dh.generate_training_data_from_db(window_length)\n",
    "train_x, train_y, test_x, test_y = dh.generate_training_data_from_events(window_length, event_ratio) #fk: aufteilen der Daten"
   ]
  },
  {
   "cell_type": "code",
   "execution_count": null,
   "id": "273e17a4",
   "metadata": {},
   "outputs": [],
   "source": [
    "# train the model\n",
    "history = model.fit(\n",
    "            x=train_x,\n",
    "            y=train_y,\n",
    "            batch_size=train_x[0].size,\n",
    "            epochs=epochs,\n",
    "            verbose=0)"
   ]
  },
  {
   "cell_type": "code",
   "execution_count": null,
   "id": "ca56914b",
   "metadata": {},
   "outputs": [],
   "source": [
    "plt.plot(history.history['loss'])\n"
   ]
  },
  {
   "cell_type": "code",
   "execution_count": null,
   "id": "e5b2bf1b",
   "metadata": {},
   "outputs": [],
   "source": [
    "#Prediction with neural network\n",
    "\n",
    "predict_y = model.predict(test_x)\n",
    "    \n",
    "dh.compare_with_testdata(predict_y, test_x, test_y)"
   ]
  },
  {
   "cell_type": "code",
   "execution_count": null,
   "id": "65a7d36e",
   "metadata": {},
   "outputs": [],
   "source": [
    "# fixed potential bug in line 218. train data ratio: 0.5, with event filter\n",
    "#+--------------------+-------+---------+-------+---------+\n",
    "#|        device name | total | correct | wrong | percent |\n",
    "#+--------------------+-------+---------+-------+---------+\n",
    "#|   espresso-machine |   657 |     618 |    39 |     94% |\n",
    "#|    washing-machine |   474 |       0 |   474 |      0% |\n",
    "#|        dish-washer |   383 |     382 |     1 |     99% |\n",
    "#|   induction-cooker |    73 |       0 |    73 |      0% |\n",
    "#|  irrigation-system |     0 |       0 |     0 |         |\n",
    "#|               oven |    18 |       7 |    11 |     38% |\n",
    "#|          microwave |     0 |       0 |     0 |         |\n",
    "#|      kitchen-light |    21 |       0 |    21 |      0% |\n",
    "#|  living-room-light |     0 |       0 |     0 |         |\n",
    "#|  dining-room-light |     0 |       0 |     0 |         |\n",
    "#| ground-floor-light |    10 |       0 |    10 |      0% |\n",
    "#|  upper-floor-light |     0 |       0 |     0 |         |\n",
    "#+--------------------+-------+---------+-------+---------+"
   ]
  },
  {
   "cell_type": "raw",
   "id": "f792ae34",
   "metadata": {},
   "source": [
    "model.save(\n",
    "    \"Devices\"      + str(num_devices) +\n",
    "    \"Percent\"      + str(int(100 * dh.cnt_correct[0] / (dh.cnt_correct[0] + dh.cnt_wrong[0]))) +\n",
    "    \"Window\"       + str(window_length)    + \n",
    "    \"Epochs\"       + str(epochs)           + \n",
    "    \"EventRatio\" + str(int(100*event_ratio)    + \n",
    "    \".keras\")"
   ]
  }
 ],
 "metadata": {
  "kernelspec": {
   "display_name": "Python 3 (ipykernel)",
   "language": "python",
   "name": "python3"
  },
  "language_info": {
   "codemirror_mode": {
    "name": "ipython",
    "version": 3
   },
   "file_extension": ".py",
   "mimetype": "text/x-python",
   "name": "python",
   "nbconvert_exporter": "python",
   "pygments_lexer": "ipython3",
   "version": "3.7.9"
  }
 },
 "nbformat": 4,
 "nbformat_minor": 5
}
